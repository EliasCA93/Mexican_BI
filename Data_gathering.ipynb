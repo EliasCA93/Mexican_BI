{
 "cells": [
  {
   "cell_type": "markdown",
   "id": "2379b924",
   "metadata": {},
   "source": [
    "# Mexican economic indicators\n",
    "\n",
    "> By Elias Castellanos Alamilla\n",
    "\n",
    "The main goal is to get the require data to create our personal local database (mySQL), that will help to develop a data analyst project that helps to understand the mexican economic health through statistic's and ML.\n",
    "\n",
    "## Data gathering\n",
    "\n",
    "- We are going to apply web scraping as possible to get the target features to develop this case study.\n",
    "- If not, we're gonna use the excel file from the main source (official web sites).\n",
    "\n",
    "### Target data\n",
    "* MME (mexican oil price usd)\n",
    "* mexican currency (pesos mx)\n",
    "* annual inflation(%)\n",
    "* underlying inflation (%)\n",
    "* interbank interest rate (%)\n",
    "* CETES (%)\n",
    "* UDIS (pesos mx)\n",
    "* [GDP](https://datos.bancomundial.org/indicator/NY.GDP.MKTP.KD.ZG?end=2021&locations=MX&start=1961&view=chart) (%)\n",
    "* [Mexican production rates](https://sih.hidrocarburos.gob.mx/) (oil & gas)\n",
    "* latitude and longitude [Shapefiles CNH](https://mapa.hidrocarburos.gob.mx/) (oil wells mapping)\n",
    "\n",
    "### Extra info\n",
    "* [Tutorial](https://www.youtube.com/watch?v=hX4zcElR7RE&ab_channel=PyPro-GuillermoIzquierdo)\n",
    "* [Token Banxico](https://www.banxico.org.mx/SieAPIRest/service/v1/)\n",
    "* [Series Id's](https://www.banxico.org.mx/SieAPIRest/service/v1/doc/catalogoSeries)"
   ]
  },
  {
   "cell_type": "code",
   "execution_count": 1,
   "id": "8ca205a4",
   "metadata": {},
   "outputs": [],
   "source": [
    "# Data manipulation\n",
    "from sqlalchemy import create_engine, text\n",
    "import mysql.connector\n",
    "from geopandas import GeoDataFrame\n",
    "import geopandas as gpd\n",
    "import pandas as pd\n",
    "\n",
    "# Web Scraping\n",
    "import requests\n",
    "\n",
    "# Maths/basic statistics\n",
    "import numpy as np \n",
    "\n",
    "# Data viz\n",
    "import matplotlib.pyplot as plt\n",
    "\n",
    "# Datetime\n",
    "from datetime import datetime\n",
    "\n",
    "# OS\n",
    "import os\n",
    "import random"
   ]
  },
  {
   "cell_type": "code",
   "execution_count": 2,
   "id": "6ae40d3f",
   "metadata": {},
   "outputs": [
    {
     "name": "stdout",
     "output_type": "stream",
     "text": [
      "Project path files OK!\n"
     ]
    }
   ],
   "source": [
    "# Import local functions\n",
    "\n",
    "from data_gathering import *\n",
    "from web_scraping import *\n",
    "\n",
    "from app.config import *"
   ]
  },
  {
   "cell_type": "code",
   "execution_count": 3,
   "id": "7984b992-69db-41b4-a25c-9c95f7a6429b",
   "metadata": {},
   "outputs": [
    {
     "name": "stdout",
     "output_type": "stream",
     "text": [
      "\n",
      "    Save data gathering into mySQL database.\n",
      "    Args: \n",
      "        - db_connection: database connection credentials. (host, user, password, database)\n",
      "        - df: pandas DataFrame.\n",
      "        - name: new table name.\n",
      "    Returns:\n",
      "        - None\n",
      "    \n"
     ]
    }
   ],
   "source": [
    "print(send_sql_data.__doc__)"
   ]
  },
  {
   "cell_type": "code",
   "execution_count": 4,
   "id": "6b84c00a-4536-43e9-9e9f-bb35a247bda9",
   "metadata": {},
   "outputs": [
    {
     "name": "stdout",
     "output_type": "stream",
     "text": [
      "\n",
      "    Web Scraping function to get time series data from Banxico repository.\n",
      "    :param series: IDSerie, ej. SF63528 (str). https://www.banxico.org.mx/SieAPIRest/service/v1/\n",
      "    :param start_date: date format yyyy-mm-dd.\n",
      "    :param token: API token Banxico, length 64 characters. https://www.banxico.org.mx/SieAPIRest/service/v1/token\n",
      "    :return: Pandas DataFrame.\n",
      "    \n"
     ]
    }
   ],
   "source": [
    "print(download_bmx_timeseries.__doc__)"
   ]
  },
  {
   "cell_type": "code",
   "execution_count": 5,
   "id": "4fe3fdd1",
   "metadata": {},
   "outputs": [
    {
     "name": "stdout",
     "output_type": "stream",
     "text": [
      "Token lenght: 64\n"
     ]
    }
   ],
   "source": [
    "# Get token from config system\n",
    "print(f\"Token lenght: {len(token)}\")"
   ]
  },
  {
   "cell_type": "code",
   "execution_count": 6,
   "id": "510b9727-aa96-4147-a252-52c9d8ca61f9",
   "metadata": {},
   "outputs": [
    {
     "name": "stdout",
     "output_type": "stream",
     "text": [
      "https://www.banxico.org.mx/SieAPIRest/service/v1/series/SF63528/datos/2024-01-01/2025-04-01\n",
      "Token de Banxico Validado...continua con tu consulta\n"
     ]
    }
   ],
   "source": [
    "token_validator()"
   ]
  },
  {
   "cell_type": "code",
   "execution_count": 7,
   "id": "8af83f46",
   "metadata": {},
   "outputs": [
    {
     "name": "stdout",
     "output_type": "stream",
     "text": [
      "Verify Data Base Connection setting's: {'host': '127.0.0.1', 'user': 'mrrobot', 'password': 'esto es una base de datos relacional', 'db': 'mei'}\n"
     ]
    }
   ],
   "source": [
    "# Define MySQL database connection details\n",
    "# host = os.getenv('MySQL_HOST')\n",
    "# user = os.getenv('MySQL_USER')\n",
    "# password = os.getenv('MYSQL_PWD')\n",
    "\n",
    "# db_connection = {\n",
    "#     'host': host,\n",
    "#     'user': user,\n",
    "#     'password': password,\n",
    "#     'db': 'mei',\n",
    "# }\n",
    "\n",
    "print(f\"Verify Data Base Connection setting's: {db_connection}\")"
   ]
  },
  {
   "cell_type": "code",
   "execution_count": 9,
   "id": "2870517a",
   "metadata": {},
   "outputs": [],
   "source": [
    "# \"Only for first-time run, this create the schema to store our data as SQL table's\"\n",
    "\n",
    "# dbname = 'mei'\n",
    "\n",
    "# eng = create_engine(f\"mysql+pymysql://{db_connection['user']}:{db_connection['password']}@{db_connection['host']}/{db_connection['db']}\")\n",
    "\n",
    "# mydb = mysql.connector.connect(\n",
    "#     host=db_connection['host'], \n",
    "#     user=db_connection['user'],\n",
    "#     password=db_connection['password'])\n",
    "\n",
    "# mycursor = mydb.cursor()\n",
    "\n",
    "# # mei stands for mexican economic indicators\n",
    "# mycursor.execute(f\"CREATE SCHEMA {dbname};\")"
   ]
  },
  {
   "cell_type": "code",
   "execution_count": 8,
   "id": "bf163039",
   "metadata": {},
   "outputs": [
    {
     "name": "stdout",
     "output_type": "stream",
     "text": [
      "Precio de adquisición en pesos para 1 dólar\n",
      "https://www.banxico.org.mx/SieAPIRest/service/v1/series/SF63528/datos/1990-01-01/2025-04-01\n"
     ]
    },
    {
     "data": {
      "image/png": "[encoded data removed]",
      "text/plain": [
       "<Figure size 1000x500 with 1 Axes>"
      ]
     },
     "metadata": {},
     "output_type": "display_data"
    }
   ],
   "source": [
    "# https://www.banxico.org.mx/SieAPIRest/service/v1/doc/consultaDatosSerieOp\n",
    "print(\"Precio de adquisición en pesos para 1 dólar\")\n",
    "\n",
    "dolares_bmx = download_bmx_timeseries(token, 'SF63528', '1990-01-01')\n",
    "# if dolares_bmx is None:\n",
    "#     print(\"Sin datos\")\n",
    "dolares_bmx.rename(columns={'dato':'dls_mxn'}, inplace=True)\n",
    "dolares_bmx.plot(figsize=(10, 5), \n",
    "                 grid=True, \n",
    "                 xlabel='Date', ylabel='Dolar price mx', title='USD vs Mexican peso, Banxico'\n",
    "                )\n",
    "\n",
    "plt.show()"
   ]
  },
  {
   "cell_type": "code",
   "execution_count": 9,
   "id": "df22c5ea",
   "metadata": {},
   "outputs": [
    {
     "data": {
      "text/html": [
       "<div>\n",
       "<style scoped>\n",
       "    .dataframe tbody tr th:only-of-type {\n",
       "        vertical-align: middle;\n",
       "    }\n",
       "\n",
       "    .dataframe tbody tr th {\n",
       "        vertical-align: top;\n",
       "    }\n",
       "\n",
       "    .dataframe thead th {\n",
       "        text-align: right;\n",
       "    }\n",
       "</style>\n",
       "<table border=\"1\" class=\"dataframe\">\n",
       "  <thead>\n",
       "    <tr style=\"text-align: right;\">\n",
       "      <th></th>\n",
       "      <th>dls_mxn</th>\n",
       "    </tr>\n",
       "    <tr>\n",
       "      <th>fecha</th>\n",
       "      <th></th>\n",
       "    </tr>\n",
       "  </thead>\n",
       "  <tbody>\n",
       "    <tr>\n",
       "      <th>1990-01-02</th>\n",
       "      <td>2.6865</td>\n",
       "    </tr>\n",
       "    <tr>\n",
       "      <th>1990-01-03</th>\n",
       "      <td>2.6875</td>\n",
       "    </tr>\n",
       "    <tr>\n",
       "      <th>1990-01-04</th>\n",
       "      <td>2.6905</td>\n",
       "    </tr>\n",
       "    <tr>\n",
       "      <th>1990-01-05</th>\n",
       "      <td>2.6915</td>\n",
       "    </tr>\n",
       "    <tr>\n",
       "      <th>1990-01-08</th>\n",
       "      <td>2.6925</td>\n",
       "    </tr>\n",
       "  </tbody>\n",
       "</table>\n",
       "</div>"
      ],
      "text/plain": [
       "            dls_mxn\n",
       "fecha              \n",
       "1990-01-02   2.6865\n",
       "1990-01-03   2.6875\n",
       "1990-01-04   2.6905\n",
       "1990-01-05   2.6915\n",
       "1990-01-08   2.6925"
      ]
     },
     "execution_count": 9,
     "metadata": {},
     "output_type": "execute_result"
    }
   ],
   "source": [
    "dolares_bmx.head()"
   ]
  },
  {
   "cell_type": "code",
   "execution_count": 10,
   "id": "6a92ffcd",
   "metadata": {},
   "outputs": [
    {
     "data": {
      "text/html": [
       "<div>\n",
       "<style scoped>\n",
       "    .dataframe tbody tr th:only-of-type {\n",
       "        vertical-align: middle;\n",
       "    }\n",
       "\n",
       "    .dataframe tbody tr th {\n",
       "        vertical-align: top;\n",
       "    }\n",
       "\n",
       "    .dataframe thead th {\n",
       "        text-align: right;\n",
       "    }\n",
       "</style>\n",
       "<table border=\"1\" class=\"dataframe\">\n",
       "  <thead>\n",
       "    <tr style=\"text-align: right;\">\n",
       "      <th></th>\n",
       "      <th>dls_mxn</th>\n",
       "    </tr>\n",
       "    <tr>\n",
       "      <th>fecha</th>\n",
       "      <th></th>\n",
       "    </tr>\n",
       "  </thead>\n",
       "  <tbody>\n",
       "    <tr>\n",
       "      <th>2025-03-26</th>\n",
       "      <td>20.0963</td>\n",
       "    </tr>\n",
       "    <tr>\n",
       "      <th>2025-03-27</th>\n",
       "      <td>20.3182</td>\n",
       "    </tr>\n",
       "    <tr>\n",
       "      <th>2025-03-28</th>\n",
       "      <td>20.4003</td>\n",
       "    </tr>\n",
       "    <tr>\n",
       "      <th>2025-03-31</th>\n",
       "      <td>20.4380</td>\n",
       "    </tr>\n",
       "    <tr>\n",
       "      <th>2025-04-01</th>\n",
       "      <td>20.3587</td>\n",
       "    </tr>\n",
       "  </tbody>\n",
       "</table>\n",
       "</div>"
      ],
      "text/plain": [
       "            dls_mxn\n",
       "fecha              \n",
       "2025-03-26  20.0963\n",
       "2025-03-27  20.3182\n",
       "2025-03-28  20.4003\n",
       "2025-03-31  20.4380\n",
       "2025-04-01  20.3587"
      ]
     },
     "execution_count": 10,
     "metadata": {},
     "output_type": "execute_result"
    }
   ],
   "source": [
    "dolares_bmx.tail()"
   ]
  },
  {
   "cell_type": "code",
   "execution_count": 11,
   "id": "5874f6ac",
   "metadata": {
    "scrolled": true
   },
   "outputs": [
    {
     "name": "stdout",
     "output_type": "stream",
     "text": [
      "<class 'pandas.core.frame.DataFrame'>\n",
      "DatetimeIndex: 8856 entries, 1990-01-02 to 2025-04-01\n",
      "Data columns (total 1 columns):\n",
      " #   Column   Non-Null Count  Dtype  \n",
      "---  ------   --------------  -----  \n",
      " 0   dls_mxn  8856 non-null   float64\n",
      "dtypes: float64(1)\n",
      "memory usage: 138.4 KB\n"
     ]
    }
   ],
   "source": [
    "dolares_bmx.info()"
   ]
  },
  {
   "cell_type": "code",
   "execution_count": 12,
   "id": "e73a79fa",
   "metadata": {},
   "outputs": [
    {
     "name": "stdout",
     "output_type": "stream",
     "text": [
      "Error sending data to SQL: Table 'dls_mx' already exists.\n"
     ]
    }
   ],
   "source": [
    "table_name='dls_mx'\n",
    "\n",
    "send_sql_data(\n",
    "    db_connection,\n",
    "    dolares_bmx, \n",
    "    table_name\n",
    ")"
   ]
  },
  {
   "cell_type": "code",
   "execution_count": 13,
   "id": "352c5e39",
   "metadata": {},
   "outputs": [
    {
     "name": "stdout",
     "output_type": "stream",
     "text": [
      "1 rows of new data added to MySQL table.\n"
     ]
    }
   ],
   "source": [
    "# Define SQL query to retrieve database data\n",
    "db_data_query = f\"SELECT * FROM {table_name}\" \n",
    "local_data = dolares_bmx.reset_index()\n",
    "\n",
    "compare_and_aggregate(local_data, db_data_query, db_connection, table_name)"
   ]
  },
  {
   "cell_type": "code",
   "execution_count": 14,
   "id": "408d9552",
   "metadata": {},
   "outputs": [
    {
     "name": "stdout",
     "output_type": "stream",
     "text": [
      "https://www.banxico.org.mx/SieAPIRest/service/v1/series/SP68257/datos/1990-01-01/2025-04-01\n"
     ]
    },
    {
     "data": {
      "image/png": "[encoded data removed]",
      "text/plain": [
       "<Figure size 1000x500 with 1 Axes>"
      ]
     },
     "metadata": {},
     "output_type": "display_data"
    }
   ],
   "source": [
    "# print(\"Unidad de Inversión (UDI)\")\n",
    "udis_bmx = download_bmx_timeseries(token, 'SP68257', '1990-01-01')\n",
    "udis_bmx.rename(columns={'dato':'UDI'}, inplace=True)\n",
    "udis_bmx.plot(figsize=(10, 5), \n",
    "              grid=True, \n",
    "              xlabel='Date', ylabel='UDI mx price', title='UDI Time series, Banxico')\n",
    "\n",
    "plt.show()"
   ]
  },
  {
   "cell_type": "code",
   "execution_count": 15,
   "id": "f5ad4c00",
   "metadata": {},
   "outputs": [
    {
     "data": {
      "text/html": [
       "<div>\n",
       "<style scoped>\n",
       "    .dataframe tbody tr th:only-of-type {\n",
       "        vertical-align: middle;\n",
       "    }\n",
       "\n",
       "    .dataframe tbody tr th {\n",
       "        vertical-align: top;\n",
       "    }\n",
       "\n",
       "    .dataframe thead th {\n",
       "        text-align: right;\n",
       "    }\n",
       "</style>\n",
       "<table border=\"1\" class=\"dataframe\">\n",
       "  <thead>\n",
       "    <tr style=\"text-align: right;\">\n",
       "      <th></th>\n",
       "      <th>UDI</th>\n",
       "    </tr>\n",
       "    <tr>\n",
       "      <th>fecha</th>\n",
       "      <th></th>\n",
       "    </tr>\n",
       "  </thead>\n",
       "  <tbody>\n",
       "    <tr>\n",
       "      <th>1995-04-04</th>\n",
       "      <td>1.000000</td>\n",
       "    </tr>\n",
       "    <tr>\n",
       "      <th>1995-04-05</th>\n",
       "      <td>1.001918</td>\n",
       "    </tr>\n",
       "    <tr>\n",
       "      <th>1995-04-06</th>\n",
       "      <td>1.003840</td>\n",
       "    </tr>\n",
       "    <tr>\n",
       "      <th>1995-04-07</th>\n",
       "      <td>1.005766</td>\n",
       "    </tr>\n",
       "    <tr>\n",
       "      <th>1995-04-08</th>\n",
       "      <td>1.007695</td>\n",
       "    </tr>\n",
       "  </tbody>\n",
       "</table>\n",
       "</div>"
      ],
      "text/plain": [
       "                 UDI\n",
       "fecha               \n",
       "1995-04-04  1.000000\n",
       "1995-04-05  1.001918\n",
       "1995-04-06  1.003840\n",
       "1995-04-07  1.005766\n",
       "1995-04-08  1.007695"
      ]
     },
     "execution_count": 15,
     "metadata": {},
     "output_type": "execute_result"
    }
   ],
   "source": [
    "udis_bmx.head()"
   ]
  },
  {
   "cell_type": "code",
   "execution_count": 16,
   "id": "49032447",
   "metadata": {},
   "outputs": [
    {
     "data": {
      "text/html": [
       "<div>\n",
       "<style scoped>\n",
       "    .dataframe tbody tr th:only-of-type {\n",
       "        vertical-align: middle;\n",
       "    }\n",
       "\n",
       "    .dataframe tbody tr th {\n",
       "        vertical-align: top;\n",
       "    }\n",
       "\n",
       "    .dataframe thead th {\n",
       "        text-align: right;\n",
       "    }\n",
       "</style>\n",
       "<table border=\"1\" class=\"dataframe\">\n",
       "  <thead>\n",
       "    <tr style=\"text-align: right;\">\n",
       "      <th></th>\n",
       "      <th>UDI</th>\n",
       "    </tr>\n",
       "    <tr>\n",
       "      <th>fecha</th>\n",
       "      <th></th>\n",
       "    </tr>\n",
       "  </thead>\n",
       "  <tbody>\n",
       "    <tr>\n",
       "      <th>2025-03-28</th>\n",
       "      <td>8.419774</td>\n",
       "    </tr>\n",
       "    <tr>\n",
       "      <th>2025-03-29</th>\n",
       "      <td>8.420494</td>\n",
       "    </tr>\n",
       "    <tr>\n",
       "      <th>2025-03-30</th>\n",
       "      <td>8.421214</td>\n",
       "    </tr>\n",
       "    <tr>\n",
       "      <th>2025-03-31</th>\n",
       "      <td>8.421934</td>\n",
       "    </tr>\n",
       "    <tr>\n",
       "      <th>2025-04-01</th>\n",
       "      <td>8.422654</td>\n",
       "    </tr>\n",
       "  </tbody>\n",
       "</table>\n",
       "</div>"
      ],
      "text/plain": [
       "                 UDI\n",
       "fecha               \n",
       "2025-03-28  8.419774\n",
       "2025-03-29  8.420494\n",
       "2025-03-30  8.421214\n",
       "2025-03-31  8.421934\n",
       "2025-04-01  8.422654"
      ]
     },
     "execution_count": 16,
     "metadata": {},
     "output_type": "execute_result"
    }
   ],
   "source": [
    "udis_bmx.tail()"
   ]
  },
  {
   "cell_type": "code",
   "execution_count": 17,
   "id": "b6d4de2e",
   "metadata": {},
   "outputs": [
    {
     "name": "stdout",
     "output_type": "stream",
     "text": [
      "<class 'pandas.core.frame.DataFrame'>\n",
      "DatetimeIndex: 10956 entries, 1995-04-04 to 2025-04-01\n",
      "Data columns (total 1 columns):\n",
      " #   Column  Non-Null Count  Dtype  \n",
      "---  ------  --------------  -----  \n",
      " 0   UDI     10956 non-null  float64\n",
      "dtypes: float64(1)\n",
      "memory usage: 171.2 KB\n"
     ]
    }
   ],
   "source": [
    "udis_bmx.info()"
   ]
  },
  {
   "cell_type": "code",
   "execution_count": 18,
   "id": "de3a106d",
   "metadata": {},
   "outputs": [
    {
     "name": "stdout",
     "output_type": "stream",
     "text": [
      "Error sending data to SQL: Table 'udis' already exists.\n"
     ]
    }
   ],
   "source": [
    "# Send data to mysql database\n",
    "table_name='udis'\n",
    "\n",
    "send_sql_data(\n",
    "    db_connection,\n",
    "    udis_bmx, \n",
    "    table_name\n",
    ")"
   ]
  },
  {
   "cell_type": "code",
   "execution_count": 19,
   "id": "3beb45a0",
   "metadata": {},
   "outputs": [
    {
     "name": "stdout",
     "output_type": "stream",
     "text": [
      "No new data to add to MySQL table.\n"
     ]
    }
   ],
   "source": [
    "# Define SQL query to retrieve database data\n",
    "db_data_query = f\"SELECT * FROM {table_name}\" \n",
    "local_data = udis_bmx.reset_index()\n",
    "\n",
    "compare_and_aggregate(local_data, db_data_query, db_connection, table_name)"
   ]
  },
  {
   "cell_type": "code",
   "execution_count": 20,
   "id": "83339b9f",
   "metadata": {},
   "outputs": [
    {
     "name": "stdout",
     "output_type": "stream",
     "text": [
      "https://www.banxico.org.mx/SieAPIRest/service/v1/series/SF282/datos/1990-01-01/2025-04-01\n"
     ]
    },
    {
     "data": {
      "image/png": "[encoded data removed]",
      "text/plain": [
       "<Figure size 1000x500 with 1 Axes>"
      ]
     },
     "metadata": {},
     "output_type": "display_data"
    }
   ],
   "source": [
    "cetes_bmx = download_bmx_timeseries(token,'SF282', '1990-01-01')\n",
    "cetes_bmx.rename(columns={'dato':'CETES'}, inplace=True)\n",
    "cetes_bmx.plot(figsize=(10, 5), \n",
    "               grid=True, \n",
    "               xlabel='Date', ylabel='% de CETES', title='CETES Timeseries, Banxico')\n",
    "\n",
    "plt.show()"
   ]
  },
  {
   "cell_type": "code",
   "execution_count": 21,
   "id": "601ccba8",
   "metadata": {},
   "outputs": [
    {
     "data": {
      "text/html": [
       "<div>\n",
       "<style scoped>\n",
       "    .dataframe tbody tr th:only-of-type {\n",
       "        vertical-align: middle;\n",
       "    }\n",
       "\n",
       "    .dataframe tbody tr th {\n",
       "        vertical-align: top;\n",
       "    }\n",
       "\n",
       "    .dataframe thead th {\n",
       "        text-align: right;\n",
       "    }\n",
       "</style>\n",
       "<table border=\"1\" class=\"dataframe\">\n",
       "  <thead>\n",
       "    <tr style=\"text-align: right;\">\n",
       "      <th></th>\n",
       "      <th>CETES</th>\n",
       "    </tr>\n",
       "    <tr>\n",
       "      <th>fecha</th>\n",
       "      <th></th>\n",
       "    </tr>\n",
       "  </thead>\n",
       "  <tbody>\n",
       "    <tr>\n",
       "      <th>1990-01-01</th>\n",
       "      <td>41.29</td>\n",
       "    </tr>\n",
       "    <tr>\n",
       "      <th>1990-02-01</th>\n",
       "      <td>45.20</td>\n",
       "    </tr>\n",
       "    <tr>\n",
       "      <th>1990-03-01</th>\n",
       "      <td>46.65</td>\n",
       "    </tr>\n",
       "    <tr>\n",
       "      <th>1990-04-01</th>\n",
       "      <td>44.64</td>\n",
       "    </tr>\n",
       "    <tr>\n",
       "      <th>1990-05-01</th>\n",
       "      <td>36.92</td>\n",
       "    </tr>\n",
       "  </tbody>\n",
       "</table>\n",
       "</div>"
      ],
      "text/plain": [
       "            CETES\n",
       "fecha            \n",
       "1990-01-01  41.29\n",
       "1990-02-01  45.20\n",
       "1990-03-01  46.65\n",
       "1990-04-01  44.64\n",
       "1990-05-01  36.92"
      ]
     },
     "execution_count": 21,
     "metadata": {},
     "output_type": "execute_result"
    }
   ],
   "source": [
    "cetes_bmx.head()"
   ]
  },
  {
   "cell_type": "code",
   "execution_count": 22,
   "id": "ad70a1f0",
   "metadata": {},
   "outputs": [
    {
     "data": {
      "text/html": [
       "<div>\n",
       "<style scoped>\n",
       "    .dataframe tbody tr th:only-of-type {\n",
       "        vertical-align: middle;\n",
       "    }\n",
       "\n",
       "    .dataframe tbody tr th {\n",
       "        vertical-align: top;\n",
       "    }\n",
       "\n",
       "    .dataframe thead th {\n",
       "        text-align: right;\n",
       "    }\n",
       "</style>\n",
       "<table border=\"1\" class=\"dataframe\">\n",
       "  <thead>\n",
       "    <tr style=\"text-align: right;\">\n",
       "      <th></th>\n",
       "      <th>CETES</th>\n",
       "    </tr>\n",
       "    <tr>\n",
       "      <th>fecha</th>\n",
       "      <th></th>\n",
       "    </tr>\n",
       "  </thead>\n",
       "  <tbody>\n",
       "    <tr>\n",
       "      <th>2024-11-01</th>\n",
       "      <td>10.05</td>\n",
       "    </tr>\n",
       "    <tr>\n",
       "      <th>2024-12-01</th>\n",
       "      <td>9.85</td>\n",
       "    </tr>\n",
       "    <tr>\n",
       "      <th>2025-01-01</th>\n",
       "      <td>9.86</td>\n",
       "    </tr>\n",
       "    <tr>\n",
       "      <th>2025-02-01</th>\n",
       "      <td>9.45</td>\n",
       "    </tr>\n",
       "    <tr>\n",
       "      <th>2025-03-01</th>\n",
       "      <td>9.10</td>\n",
       "    </tr>\n",
       "  </tbody>\n",
       "</table>\n",
       "</div>"
      ],
      "text/plain": [
       "            CETES\n",
       "fecha            \n",
       "2024-11-01  10.05\n",
       "2024-12-01   9.85\n",
       "2025-01-01   9.86\n",
       "2025-02-01   9.45\n",
       "2025-03-01   9.10"
      ]
     },
     "execution_count": 22,
     "metadata": {},
     "output_type": "execute_result"
    }
   ],
   "source": [
    "cetes_bmx.tail()"
   ]
  },
  {
   "cell_type": "code",
   "execution_count": 23,
   "id": "ee542a9f",
   "metadata": {},
   "outputs": [
    {
     "name": "stdout",
     "output_type": "stream",
     "text": [
      "<class 'pandas.core.frame.DataFrame'>\n",
      "DatetimeIndex: 423 entries, 1990-01-01 to 2025-03-01\n",
      "Data columns (total 1 columns):\n",
      " #   Column  Non-Null Count  Dtype  \n",
      "---  ------  --------------  -----  \n",
      " 0   CETES   423 non-null    float64\n",
      "dtypes: float64(1)\n",
      "memory usage: 6.6 KB\n"
     ]
    }
   ],
   "source": [
    "cetes_bmx.info()"
   ]
  },
  {
   "cell_type": "code",
   "execution_count": 24,
   "id": "f4a23bad",
   "metadata": {},
   "outputs": [
    {
     "name": "stdout",
     "output_type": "stream",
     "text": [
      "Error sending data to SQL: Table 'cetes' already exists.\n"
     ]
    }
   ],
   "source": [
    "# Send data to mysql database\n",
    "table_name='cetes'\n",
    "\n",
    "send_sql_data(\n",
    "    db_connection,\n",
    "    cetes_bmx, \n",
    "    table_name\n",
    ")"
   ]
  },
  {
   "cell_type": "code",
   "execution_count": 25,
   "id": "a4cea749",
   "metadata": {},
   "outputs": [
    {
     "name": "stdout",
     "output_type": "stream",
     "text": [
      "No new data to add to MySQL table.\n"
     ]
    }
   ],
   "source": [
    "# Define SQL query to retrieve database data\n",
    "db_data_query = f\"SELECT * FROM {table_name}\" \n",
    "local_data = cetes_bmx.reset_index()\n",
    "\n",
    "compare_and_aggregate(local_data, db_data_query, db_connection, table_name)"
   ]
  },
  {
   "cell_type": "code",
   "execution_count": 26,
   "id": "99dfd1cd",
   "metadata": {},
   "outputs": [
    {
     "name": "stdout",
     "output_type": "stream",
     "text": [
      "https://www.banxico.org.mx/SieAPIRest/service/v1/series/SP30578/datos/1990-01-01/2025-04-01\n"
     ]
    },
    {
     "data": {
      "image/png": "[encoded data removed]",
      "text/plain": [
       "<Figure size 1000x500 with 1 Axes>"
      ]
     },
     "metadata": {},
     "output_type": "display_data"
    }
   ],
   "source": [
    "INPC_inflacion_anual = download_bmx_timeseries(token, 'SP30578', '1990-01-01')\n",
    "INPC_inflacion_anual.rename(columns={'dato':'inflacion_anual'}, inplace=True)\n",
    "INPC_inflacion_anual.plot(figsize=(10, 5), \n",
    "                          grid=True, \n",
    "                          xlabel='Date', ylabel='%', \n",
    "                          title='Timeseries Unidad del Índice al Precio del Consumidor (INPC), Banxico')\n",
    "\n",
    "plt.ylim(0, 10)\n",
    "plt.show()"
   ]
  },
  {
   "cell_type": "code",
   "execution_count": 27,
   "id": "2e30280e",
   "metadata": {},
   "outputs": [
    {
     "data": {
      "text/html": [
       "<div>\n",
       "<style scoped>\n",
       "    .dataframe tbody tr th:only-of-type {\n",
       "        vertical-align: middle;\n",
       "    }\n",
       "\n",
       "    .dataframe tbody tr th {\n",
       "        vertical-align: top;\n",
       "    }\n",
       "\n",
       "    .dataframe thead th {\n",
       "        text-align: right;\n",
       "    }\n",
       "</style>\n",
       "<table border=\"1\" class=\"dataframe\">\n",
       "  <thead>\n",
       "    <tr style=\"text-align: right;\">\n",
       "      <th></th>\n",
       "      <th>inflacion_anual</th>\n",
       "    </tr>\n",
       "    <tr>\n",
       "      <th>fecha</th>\n",
       "      <th></th>\n",
       "    </tr>\n",
       "  </thead>\n",
       "  <tbody>\n",
       "    <tr>\n",
       "      <th>1990-01-01</th>\n",
       "      <td>22.48</td>\n",
       "    </tr>\n",
       "    <tr>\n",
       "      <th>1990-02-01</th>\n",
       "      <td>23.57</td>\n",
       "    </tr>\n",
       "    <tr>\n",
       "      <th>1990-03-01</th>\n",
       "      <td>24.40</td>\n",
       "    </tr>\n",
       "    <tr>\n",
       "      <th>1990-04-01</th>\n",
       "      <td>24.43</td>\n",
       "    </tr>\n",
       "    <tr>\n",
       "      <th>1990-05-01</th>\n",
       "      <td>24.89</td>\n",
       "    </tr>\n",
       "  </tbody>\n",
       "</table>\n",
       "</div>"
      ],
      "text/plain": [
       "            inflacion_anual\n",
       "fecha                      \n",
       "1990-01-01            22.48\n",
       "1990-02-01            23.57\n",
       "1990-03-01            24.40\n",
       "1990-04-01            24.43\n",
       "1990-05-01            24.89"
      ]
     },
     "execution_count": 27,
     "metadata": {},
     "output_type": "execute_result"
    }
   ],
   "source": [
    "INPC_inflacion_anual.head()"
   ]
  },
  {
   "cell_type": "code",
   "execution_count": 28,
   "id": "f689447b",
   "metadata": {},
   "outputs": [
    {
     "data": {
      "text/html": [
       "<div>\n",
       "<style scoped>\n",
       "    .dataframe tbody tr th:only-of-type {\n",
       "        vertical-align: middle;\n",
       "    }\n",
       "\n",
       "    .dataframe tbody tr th {\n",
       "        vertical-align: top;\n",
       "    }\n",
       "\n",
       "    .dataframe thead th {\n",
       "        text-align: right;\n",
       "    }\n",
       "</style>\n",
       "<table border=\"1\" class=\"dataframe\">\n",
       "  <thead>\n",
       "    <tr style=\"text-align: right;\">\n",
       "      <th></th>\n",
       "      <th>inflacion_anual</th>\n",
       "    </tr>\n",
       "    <tr>\n",
       "      <th>fecha</th>\n",
       "      <th></th>\n",
       "    </tr>\n",
       "  </thead>\n",
       "  <tbody>\n",
       "    <tr>\n",
       "      <th>2024-10-01</th>\n",
       "      <td>4.76</td>\n",
       "    </tr>\n",
       "    <tr>\n",
       "      <th>2024-11-01</th>\n",
       "      <td>4.55</td>\n",
       "    </tr>\n",
       "    <tr>\n",
       "      <th>2024-12-01</th>\n",
       "      <td>4.21</td>\n",
       "    </tr>\n",
       "    <tr>\n",
       "      <th>2025-01-01</th>\n",
       "      <td>3.59</td>\n",
       "    </tr>\n",
       "    <tr>\n",
       "      <th>2025-02-01</th>\n",
       "      <td>3.77</td>\n",
       "    </tr>\n",
       "  </tbody>\n",
       "</table>\n",
       "</div>"
      ],
      "text/plain": [
       "            inflacion_anual\n",
       "fecha                      \n",
       "2024-10-01             4.76\n",
       "2024-11-01             4.55\n",
       "2024-12-01             4.21\n",
       "2025-01-01             3.59\n",
       "2025-02-01             3.77"
      ]
     },
     "execution_count": 28,
     "metadata": {},
     "output_type": "execute_result"
    }
   ],
   "source": [
    "INPC_inflacion_anual.tail()"
   ]
  },
  {
   "cell_type": "code",
   "execution_count": 29,
   "id": "3ffc9f89",
   "metadata": {},
   "outputs": [
    {
     "name": "stdout",
     "output_type": "stream",
     "text": [
      "<class 'pandas.core.frame.DataFrame'>\n",
      "DatetimeIndex: 422 entries, 1990-01-01 to 2025-02-01\n",
      "Data columns (total 1 columns):\n",
      " #   Column           Non-Null Count  Dtype  \n",
      "---  ------           --------------  -----  \n",
      " 0   inflacion_anual  422 non-null    float64\n",
      "dtypes: float64(1)\n",
      "memory usage: 6.6 KB\n"
     ]
    }
   ],
   "source": [
    "INPC_inflacion_anual.info()"
   ]
  },
  {
   "cell_type": "code",
   "execution_count": 30,
   "id": "a7f884c5",
   "metadata": {},
   "outputs": [
    {
     "name": "stdout",
     "output_type": "stream",
     "text": [
      "Error sending data to SQL: Table 'inflacion_anual_mx' already exists.\n"
     ]
    }
   ],
   "source": [
    "# Send data to mysql database\n",
    "table_name = 'inflacion_anual_mx'\n",
    "\n",
    "send_sql_data(\n",
    "    db_connection, \n",
    "    INPC_inflacion_anual, \n",
    "    table_name\n",
    ")"
   ]
  },
  {
   "cell_type": "code",
   "execution_count": 31,
   "id": "30a9af9e",
   "metadata": {},
   "outputs": [
    {
     "name": "stdout",
     "output_type": "stream",
     "text": [
      "No new data to add to MySQL table.\n"
     ]
    }
   ],
   "source": [
    "# Define SQL query to retrieve database data\n",
    "db_data_query = f\"SELECT * FROM {table_name}\" \n",
    "local_data = INPC_inflacion_anual.reset_index()\n",
    "\n",
    "compare_and_aggregate(local_data, db_data_query, db_connection, table_name)"
   ]
  },
  {
   "cell_type": "code",
   "execution_count": 32,
   "id": "03fafb3d-1054-4a72-89e8-d6a87dc71fb6",
   "metadata": {},
   "outputs": [
    {
     "name": "stdout",
     "output_type": "stream",
     "text": [
      "https://www.banxico.org.mx/SieAPIRest/service/v1/series/SP74662/datos/1990-01-01/2025-04-01\n"
     ]
    },
    {
     "data": {
      "image/png": "[encoded data removed]",
      "text/plain": [
       "<Figure size 1000x500 with 1 Axes>"
      ]
     },
     "metadata": {},
     "output_type": "display_data"
    }
   ],
   "source": [
    "inflacion_subyacente = download_bmx_timeseries(token, 'SP74662', '1990-01-01')\n",
    "inflacion_subyacente.rename(columns={'dato':'inflacion_subyacente'}, inplace=True)\n",
    "inflacion_subyacente.plot(figsize=(10, 5), \n",
    "                          grid=True, \n",
    "                          xlabel='Date', ylabel='%', \n",
    "                          title='Timeseries Unidad del Índice al Precio del Consumidor (INPC) Subyacente, Banxico')\n",
    "\n",
    "plt.show()"
   ]
  },
  {
   "cell_type": "code",
   "execution_count": 33,
   "id": "2a07e76a-dd43-4079-abbc-7c29ceb1f4df",
   "metadata": {},
   "outputs": [
    {
     "data": {
      "text/html": [
       "<div>\n",
       "<style scoped>\n",
       "    .dataframe tbody tr th:only-of-type {\n",
       "        vertical-align: middle;\n",
       "    }\n",
       "\n",
       "    .dataframe tbody tr th {\n",
       "        vertical-align: top;\n",
       "    }\n",
       "\n",
       "    .dataframe thead th {\n",
       "        text-align: right;\n",
       "    }\n",
       "</style>\n",
       "<table border=\"1\" class=\"dataframe\">\n",
       "  <thead>\n",
       "    <tr style=\"text-align: right;\">\n",
       "      <th></th>\n",
       "      <th>inflacion_subyacente</th>\n",
       "    </tr>\n",
       "    <tr>\n",
       "      <th>fecha</th>\n",
       "      <th></th>\n",
       "    </tr>\n",
       "  </thead>\n",
       "  <tbody>\n",
       "    <tr>\n",
       "      <th>1990-01-01</th>\n",
       "      <td>22.23</td>\n",
       "    </tr>\n",
       "    <tr>\n",
       "      <th>1990-02-01</th>\n",
       "      <td>22.02</td>\n",
       "    </tr>\n",
       "    <tr>\n",
       "      <th>1990-03-01</th>\n",
       "      <td>22.21</td>\n",
       "    </tr>\n",
       "    <tr>\n",
       "      <th>1990-04-01</th>\n",
       "      <td>23.11</td>\n",
       "    </tr>\n",
       "    <tr>\n",
       "      <th>1990-05-01</th>\n",
       "      <td>24.66</td>\n",
       "    </tr>\n",
       "  </tbody>\n",
       "</table>\n",
       "</div>"
      ],
      "text/plain": [
       "            inflacion_subyacente\n",
       "fecha                           \n",
       "1990-01-01                 22.23\n",
       "1990-02-01                 22.02\n",
       "1990-03-01                 22.21\n",
       "1990-04-01                 23.11\n",
       "1990-05-01                 24.66"
      ]
     },
     "execution_count": 33,
     "metadata": {},
     "output_type": "execute_result"
    }
   ],
   "source": [
    "inflacion_subyacente.head()"
   ]
  },
  {
   "cell_type": "code",
   "execution_count": 34,
   "id": "ccaef29b-8ac7-45ba-84bb-b26130ecc3df",
   "metadata": {},
   "outputs": [
    {
     "data": {
      "text/html": [
       "<div>\n",
       "<style scoped>\n",
       "    .dataframe tbody tr th:only-of-type {\n",
       "        vertical-align: middle;\n",
       "    }\n",
       "\n",
       "    .dataframe tbody tr th {\n",
       "        vertical-align: top;\n",
       "    }\n",
       "\n",
       "    .dataframe thead th {\n",
       "        text-align: right;\n",
       "    }\n",
       "</style>\n",
       "<table border=\"1\" class=\"dataframe\">\n",
       "  <thead>\n",
       "    <tr style=\"text-align: right;\">\n",
       "      <th></th>\n",
       "      <th>inflacion_subyacente</th>\n",
       "    </tr>\n",
       "    <tr>\n",
       "      <th>fecha</th>\n",
       "      <th></th>\n",
       "    </tr>\n",
       "  </thead>\n",
       "  <tbody>\n",
       "    <tr>\n",
       "      <th>2024-10-01</th>\n",
       "      <td>3.80</td>\n",
       "    </tr>\n",
       "    <tr>\n",
       "      <th>2024-11-01</th>\n",
       "      <td>3.58</td>\n",
       "    </tr>\n",
       "    <tr>\n",
       "      <th>2024-12-01</th>\n",
       "      <td>3.65</td>\n",
       "    </tr>\n",
       "    <tr>\n",
       "      <th>2025-01-01</th>\n",
       "      <td>3.66</td>\n",
       "    </tr>\n",
       "    <tr>\n",
       "      <th>2025-02-01</th>\n",
       "      <td>3.65</td>\n",
       "    </tr>\n",
       "  </tbody>\n",
       "</table>\n",
       "</div>"
      ],
      "text/plain": [
       "            inflacion_subyacente\n",
       "fecha                           \n",
       "2024-10-01                  3.80\n",
       "2024-11-01                  3.58\n",
       "2024-12-01                  3.65\n",
       "2025-01-01                  3.66\n",
       "2025-02-01                  3.65"
      ]
     },
     "execution_count": 34,
     "metadata": {},
     "output_type": "execute_result"
    }
   ],
   "source": [
    "inflacion_subyacente.tail()"
   ]
  },
  {
   "cell_type": "code",
   "execution_count": 35,
   "id": "0f1060e5-6b64-4554-9e40-45a093da56ca",
   "metadata": {},
   "outputs": [
    {
     "name": "stdout",
     "output_type": "stream",
     "text": [
      "<class 'pandas.core.frame.DataFrame'>\n",
      "DatetimeIndex: 422 entries, 1990-01-01 to 2025-02-01\n",
      "Data columns (total 1 columns):\n",
      " #   Column                Non-Null Count  Dtype  \n",
      "---  ------                --------------  -----  \n",
      " 0   inflacion_subyacente  422 non-null    float64\n",
      "dtypes: float64(1)\n",
      "memory usage: 6.6 KB\n"
     ]
    }
   ],
   "source": [
    "inflacion_subyacente.info()"
   ]
  },
  {
   "cell_type": "code",
   "execution_count": 36,
   "id": "f1d129de-dd61-411e-b608-4516b100ad04",
   "metadata": {},
   "outputs": [
    {
     "name": "stdout",
     "output_type": "stream",
     "text": [
      "Error sending data to SQL: Table 'inflacion_subyacente_mx' already exists.\n"
     ]
    }
   ],
   "source": [
    "# Send data to mysql database\n",
    "table_name='inflacion_subyacente_mx'\n",
    "\n",
    "send_sql_data(\n",
    "    db_connection,\n",
    "    inflacion_subyacente, \n",
    "    table_name\n",
    ")"
   ]
  },
  {
   "cell_type": "code",
   "execution_count": 37,
   "id": "3bd01f39-2edf-40b9-b774-242eca7555ad",
   "metadata": {},
   "outputs": [
    {
     "name": "stdout",
     "output_type": "stream",
     "text": [
      "No new data to add to MySQL table.\n"
     ]
    }
   ],
   "source": [
    "# Define SQL query to retrieve database data\n",
    "db_data_query = f\"SELECT * FROM {table_name}\" \n",
    "local_data = inflacion_subyacente.reset_index()\n",
    "\n",
    "compare_and_aggregate(local_data, db_data_query, db_connection, table_name)"
   ]
  },
  {
   "cell_type": "code",
   "execution_count": 38,
   "id": "5307f482",
   "metadata": {},
   "outputs": [
    {
     "name": "stdout",
     "output_type": "stream",
     "text": [
      "https://www.banxico.org.mx/SieAPIRest/service/v1/series/SF43783/datos/1990-01-01/2025-04-01\n"
     ]
    },
    {
     "data": {
      "image/png": "[encoded data removed]",
      "text/plain": [
       "<Figure size 1000x500 with 1 Axes>"
      ]
     },
     "metadata": {},
     "output_type": "display_data"
    }
   ],
   "source": [
    "# Tasas de interés interbancario a 28 días por Banxico, id_serie = SF43783\n",
    "iit = download_bmx_timeseries(token, 'SF43783', '1990-01-01')\n",
    "iit.rename(columns={'dato':'interes_interbancario_28'}, inplace=True)\n",
    "iit.plot(figsize=(10, 5), grid=True, xlabel='Date', ylabel='%', title='Interés interbancario aprobado por Banxico')\n",
    "\n",
    "plt.ylim(0, 15)\n",
    "plt.show()"
   ]
  },
  {
   "cell_type": "code",
   "execution_count": 39,
   "id": "ba189a91",
   "metadata": {},
   "outputs": [
    {
     "data": {
      "text/html": [
       "<div>\n",
       "<style scoped>\n",
       "    .dataframe tbody tr th:only-of-type {\n",
       "        vertical-align: middle;\n",
       "    }\n",
       "\n",
       "    .dataframe tbody tr th {\n",
       "        vertical-align: top;\n",
       "    }\n",
       "\n",
       "    .dataframe thead th {\n",
       "        text-align: right;\n",
       "    }\n",
       "</style>\n",
       "<table border=\"1\" class=\"dataframe\">\n",
       "  <thead>\n",
       "    <tr style=\"text-align: right;\">\n",
       "      <th></th>\n",
       "      <th>interes_interbancario_28</th>\n",
       "    </tr>\n",
       "    <tr>\n",
       "      <th>fecha</th>\n",
       "      <th></th>\n",
       "    </tr>\n",
       "  </thead>\n",
       "  <tbody>\n",
       "    <tr>\n",
       "      <th>1995-03-23</th>\n",
       "      <td>90.5</td>\n",
       "    </tr>\n",
       "    <tr>\n",
       "      <th>1995-03-24</th>\n",
       "      <td>NaN</td>\n",
       "    </tr>\n",
       "    <tr>\n",
       "      <th>1995-03-27</th>\n",
       "      <td>NaN</td>\n",
       "    </tr>\n",
       "    <tr>\n",
       "      <th>1995-03-28</th>\n",
       "      <td>NaN</td>\n",
       "    </tr>\n",
       "    <tr>\n",
       "      <th>1995-03-29</th>\n",
       "      <td>NaN</td>\n",
       "    </tr>\n",
       "  </tbody>\n",
       "</table>\n",
       "</div>"
      ],
      "text/plain": [
       "            interes_interbancario_28\n",
       "fecha                               \n",
       "1995-03-23                      90.5\n",
       "1995-03-24                       NaN\n",
       "1995-03-27                       NaN\n",
       "1995-03-28                       NaN\n",
       "1995-03-29                       NaN"
      ]
     },
     "execution_count": 39,
     "metadata": {},
     "output_type": "execute_result"
    }
   ],
   "source": [
    "iit.head()"
   ]
  },
  {
   "cell_type": "code",
   "execution_count": 40,
   "id": "eea7f80d",
   "metadata": {},
   "outputs": [
    {
     "data": {
      "text/html": [
       "<div>\n",
       "<style scoped>\n",
       "    .dataframe tbody tr th:only-of-type {\n",
       "        vertical-align: middle;\n",
       "    }\n",
       "\n",
       "    .dataframe tbody tr th {\n",
       "        vertical-align: top;\n",
       "    }\n",
       "\n",
       "    .dataframe thead th {\n",
       "        text-align: right;\n",
       "    }\n",
       "</style>\n",
       "<table border=\"1\" class=\"dataframe\">\n",
       "  <thead>\n",
       "    <tr style=\"text-align: right;\">\n",
       "      <th></th>\n",
       "      <th>interes_interbancario_28</th>\n",
       "    </tr>\n",
       "    <tr>\n",
       "      <th>fecha</th>\n",
       "      <th></th>\n",
       "    </tr>\n",
       "  </thead>\n",
       "  <tbody>\n",
       "    <tr>\n",
       "      <th>2025-03-26</th>\n",
       "      <td>9.7739</td>\n",
       "    </tr>\n",
       "    <tr>\n",
       "      <th>2025-03-27</th>\n",
       "      <td>9.7739</td>\n",
       "    </tr>\n",
       "    <tr>\n",
       "      <th>2025-03-28</th>\n",
       "      <td>9.7638</td>\n",
       "    </tr>\n",
       "    <tr>\n",
       "      <th>2025-03-31</th>\n",
       "      <td>9.2604</td>\n",
       "    </tr>\n",
       "    <tr>\n",
       "      <th>2025-04-01</th>\n",
       "      <td>9.2704</td>\n",
       "    </tr>\n",
       "  </tbody>\n",
       "</table>\n",
       "</div>"
      ],
      "text/plain": [
       "            interes_interbancario_28\n",
       "fecha                               \n",
       "2025-03-26                    9.7739\n",
       "2025-03-27                    9.7739\n",
       "2025-03-28                    9.7638\n",
       "2025-03-31                    9.2604\n",
       "2025-04-01                    9.2704"
      ]
     },
     "execution_count": 40,
     "metadata": {},
     "output_type": "execute_result"
    }
   ],
   "source": [
    "iit.tail()"
   ]
  },
  {
   "cell_type": "code",
   "execution_count": 41,
   "id": "d13553fa",
   "metadata": {},
   "outputs": [
    {
     "name": "stdout",
     "output_type": "stream",
     "text": [
      "<class 'pandas.core.frame.DataFrame'>\n",
      "DatetimeIndex: 7551 entries, 1995-03-23 to 2025-04-01\n",
      "Data columns (total 1 columns):\n",
      " #   Column                    Non-Null Count  Dtype  \n",
      "---  ------                    --------------  -----  \n",
      " 0   interes_interbancario_28  7351 non-null   float64\n",
      "dtypes: float64(1)\n",
      "memory usage: 118.0 KB\n"
     ]
    }
   ],
   "source": [
    "iit.info()"
   ]
  },
  {
   "cell_type": "code",
   "execution_count": 42,
   "id": "068b0776",
   "metadata": {},
   "outputs": [
    {
     "name": "stdout",
     "output_type": "stream",
     "text": [
      "Error sending data to SQL: Table 'interes_interbancariomx_28' already exists.\n"
     ]
    }
   ],
   "source": [
    "# Send data to mysql database\n",
    "table_name = 'interes_interbancariomx_28'\n",
    "\n",
    "send_sql_data(\n",
    "    db_connection, \n",
    "    iit, \n",
    "    table_name\n",
    ")"
   ]
  },
  {
   "cell_type": "code",
   "execution_count": 43,
   "id": "f7545473",
   "metadata": {},
   "outputs": [
    {
     "name": "stdout",
     "output_type": "stream",
     "text": [
      "No new data to add to MySQL table.\n"
     ]
    }
   ],
   "source": [
    "# Define SQL query to retrieve database data\n",
    "db_data_query = f\"SELECT * FROM {table_name}\"\n",
    "local_data = iit.reset_index()\n",
    "\n",
    "compare_and_aggregate(local_data, db_data_query, db_connection, table_name)"
   ]
  },
  {
   "cell_type": "code",
   "execution_count": 44,
   "id": "38edcc2b",
   "metadata": {},
   "outputs": [],
   "source": [
    "mme = get_mme_prices()"
   ]
  },
  {
   "cell_type": "code",
   "execution_count": 45,
   "id": "b13f1a4b",
   "metadata": {},
   "outputs": [
    {
     "data": {
      "image/png": "[encoded data removed]",
      "text/plain": [
       "<Figure size 1000x500 with 1 Axes>"
      ]
     },
     "metadata": {},
     "output_type": "display_data"
    }
   ],
   "source": [
    "mme.plot(figsize=(10, 5), grid=True, xlabel='Date', ylabel='USD', title='MME price')\n",
    "plt.show()"
   ]
  },
  {
   "cell_type": "code",
   "execution_count": 46,
   "id": "065180da",
   "metadata": {},
   "outputs": [
    {
     "data": {
      "text/html": [
       "<div>\n",
       "<style scoped>\n",
       "    .dataframe tbody tr th:only-of-type {\n",
       "        vertical-align: middle;\n",
       "    }\n",
       "\n",
       "    .dataframe tbody tr th {\n",
       "        vertical-align: top;\n",
       "    }\n",
       "\n",
       "    .dataframe thead th {\n",
       "        text-align: right;\n",
       "    }\n",
       "</style>\n",
       "<table border=\"1\" class=\"dataframe\">\n",
       "  <thead>\n",
       "    <tr style=\"text-align: right;\">\n",
       "      <th></th>\n",
       "      <th>MME</th>\n",
       "    </tr>\n",
       "    <tr>\n",
       "      <th>fecha</th>\n",
       "      <th></th>\n",
       "    </tr>\n",
       "  </thead>\n",
       "  <tbody>\n",
       "    <tr>\n",
       "      <th>1996-01-03</th>\n",
       "      <td>17.40</td>\n",
       "    </tr>\n",
       "    <tr>\n",
       "      <th>1996-01-04</th>\n",
       "      <td>17.41</td>\n",
       "    </tr>\n",
       "    <tr>\n",
       "      <th>1996-01-05</th>\n",
       "      <td>17.70</td>\n",
       "    </tr>\n",
       "    <tr>\n",
       "      <th>1996-01-08</th>\n",
       "      <td>17.54</td>\n",
       "    </tr>\n",
       "    <tr>\n",
       "      <th>1996-01-09</th>\n",
       "      <td>17.41</td>\n",
       "    </tr>\n",
       "  </tbody>\n",
       "</table>\n",
       "</div>"
      ],
      "text/plain": [
       "              MME\n",
       "fecha            \n",
       "1996-01-03  17.40\n",
       "1996-01-04  17.41\n",
       "1996-01-05  17.70\n",
       "1996-01-08  17.54\n",
       "1996-01-09  17.41"
      ]
     },
     "execution_count": 46,
     "metadata": {},
     "output_type": "execute_result"
    }
   ],
   "source": [
    "mme.head()"
   ]
  },
  {
   "cell_type": "code",
   "execution_count": 47,
   "id": "8b2f7962",
   "metadata": {},
   "outputs": [
    {
     "data": {
      "text/html": [
       "<div>\n",
       "<style scoped>\n",
       "    .dataframe tbody tr th:only-of-type {\n",
       "        vertical-align: middle;\n",
       "    }\n",
       "\n",
       "    .dataframe tbody tr th {\n",
       "        vertical-align: top;\n",
       "    }\n",
       "\n",
       "    .dataframe thead th {\n",
       "        text-align: right;\n",
       "    }\n",
       "</style>\n",
       "<table border=\"1\" class=\"dataframe\">\n",
       "  <thead>\n",
       "    <tr style=\"text-align: right;\">\n",
       "      <th></th>\n",
       "      <th>MME</th>\n",
       "    </tr>\n",
       "    <tr>\n",
       "      <th>fecha</th>\n",
       "      <th></th>\n",
       "    </tr>\n",
       "  </thead>\n",
       "  <tbody>\n",
       "    <tr>\n",
       "      <th>2025-03-24</th>\n",
       "      <td>66.25</td>\n",
       "    </tr>\n",
       "    <tr>\n",
       "      <th>2025-03-25</th>\n",
       "      <td>66.37</td>\n",
       "    </tr>\n",
       "    <tr>\n",
       "      <th>2025-03-26</th>\n",
       "      <td>66.80</td>\n",
       "    </tr>\n",
       "    <tr>\n",
       "      <th>2025-03-27</th>\n",
       "      <td>67.03</td>\n",
       "    </tr>\n",
       "    <tr>\n",
       "      <th>2025-03-28</th>\n",
       "      <td>NaN</td>\n",
       "    </tr>\n",
       "  </tbody>\n",
       "</table>\n",
       "</div>"
      ],
      "text/plain": [
       "              MME\n",
       "fecha            \n",
       "2025-03-24  66.25\n",
       "2025-03-25  66.37\n",
       "2025-03-26  66.80\n",
       "2025-03-27  67.03\n",
       "2025-03-28    NaN"
      ]
     },
     "execution_count": 47,
     "metadata": {},
     "output_type": "execute_result"
    }
   ],
   "source": [
    "mme.tail()"
   ]
  },
  {
   "cell_type": "code",
   "execution_count": 48,
   "id": "e3c92803",
   "metadata": {},
   "outputs": [
    {
     "name": "stdout",
     "output_type": "stream",
     "text": [
      "<class 'pandas.core.frame.DataFrame'>\n",
      "DatetimeIndex: 7628 entries, 1996-01-03 to 2025-03-28\n",
      "Data columns (total 1 columns):\n",
      " #   Column  Non-Null Count  Dtype  \n",
      "---  ------  --------------  -----  \n",
      " 0   MME     7052 non-null   float64\n",
      "dtypes: float64(1)\n",
      "memory usage: 119.2 KB\n"
     ]
    }
   ],
   "source": [
    "mme.info()"
   ]
  },
  {
   "cell_type": "code",
   "execution_count": 49,
   "id": "8fcb7273",
   "metadata": {},
   "outputs": [
    {
     "name": "stdout",
     "output_type": "stream",
     "text": [
      "Error sending data to SQL: Table 'mme' already exists.\n"
     ]
    }
   ],
   "source": [
    "# Send data to mysql database\n",
    "table_name='mme'\n",
    "\n",
    "send_sql_data(\n",
    "    db_connection, \n",
    "    mme, \n",
    "    table_name\n",
    ")"
   ]
  },
  {
   "cell_type": "code",
   "execution_count": 50,
   "id": "0ca45640",
   "metadata": {},
   "outputs": [
    {
     "name": "stdout",
     "output_type": "stream",
     "text": [
      "No new data to add to MySQL table.\n"
     ]
    }
   ],
   "source": [
    "# Define SQL query to retrieve database data\n",
    "db_data_query = f\"SELECT * FROM {table_name}\"\n",
    "local_data = mme.ffill().reset_index()\n",
    "\n",
    "compare_and_aggregate(local_data, db_data_query, db_connection, table_name)"
   ]
  },
  {
   "cell_type": "code",
   "execution_count": 51,
   "id": "79312773",
   "metadata": {},
   "outputs": [
    {
     "data": {
      "text/html": [
       "<div>\n",
       "<style scoped>\n",
       "    .dataframe tbody tr th:only-of-type {\n",
       "        vertical-align: middle;\n",
       "    }\n",
       "\n",
       "    .dataframe tbody tr th {\n",
       "        vertical-align: top;\n",
       "    }\n",
       "\n",
       "    .dataframe thead th {\n",
       "        text-align: right;\n",
       "    }\n",
       "</style>\n",
       "<table border=\"1\" class=\"dataframe\">\n",
       "  <thead>\n",
       "    <tr style=\"text-align: right;\">\n",
       "      <th></th>\n",
       "      <th>Country Name</th>\n",
       "      <th>1960</th>\n",
       "      <th>1961</th>\n",
       "      <th>1962</th>\n",
       "      <th>1963</th>\n",
       "      <th>1964</th>\n",
       "      <th>1965</th>\n",
       "      <th>1966</th>\n",
       "      <th>1967</th>\n",
       "      <th>1968</th>\n",
       "      <th>...</th>\n",
       "      <th>2012</th>\n",
       "      <th>2013</th>\n",
       "      <th>2014</th>\n",
       "      <th>2015</th>\n",
       "      <th>2016</th>\n",
       "      <th>2017</th>\n",
       "      <th>2018</th>\n",
       "      <th>2019</th>\n",
       "      <th>2020</th>\n",
       "      <th>2021</th>\n",
       "    </tr>\n",
       "  </thead>\n",
       "  <tbody>\n",
       "    <tr>\n",
       "      <th>0</th>\n",
       "      <td>Aruba</td>\n",
       "      <td>NaN</td>\n",
       "      <td>NaN</td>\n",
       "      <td>NaN</td>\n",
       "      <td>NaN</td>\n",
       "      <td>NaN</td>\n",
       "      <td>NaN</td>\n",
       "      <td>NaN</td>\n",
       "      <td>NaN</td>\n",
       "      <td>NaN</td>\n",
       "      <td>...</td>\n",
       "      <td>-1.035375</td>\n",
       "      <td>6.429817</td>\n",
       "      <td>-0.020479</td>\n",
       "      <td>3.543630</td>\n",
       "      <td>2.116716</td>\n",
       "      <td>5.482371</td>\n",
       "      <td>5.257856</td>\n",
       "      <td>0.635029</td>\n",
       "      <td>-18.589100</td>\n",
       "      <td>17.172509</td>\n",
       "    </tr>\n",
       "    <tr>\n",
       "      <th>1</th>\n",
       "      <td>NaN</td>\n",
       "      <td>NaN</td>\n",
       "      <td>0.237304</td>\n",
       "      <td>7.984460</td>\n",
       "      <td>5.163873</td>\n",
       "      <td>4.583677</td>\n",
       "      <td>5.328044</td>\n",
       "      <td>3.913909</td>\n",
       "      <td>5.255309</td>\n",
       "      <td>4.026302</td>\n",
       "      <td>...</td>\n",
       "      <td>0.770097</td>\n",
       "      <td>4.229408</td>\n",
       "      <td>4.039082</td>\n",
       "      <td>2.895728</td>\n",
       "      <td>2.485952</td>\n",
       "      <td>2.639537</td>\n",
       "      <td>2.610797</td>\n",
       "      <td>2.038299</td>\n",
       "      <td>-3.042653</td>\n",
       "      <td>4.402447</td>\n",
       "    </tr>\n",
       "    <tr>\n",
       "      <th>2</th>\n",
       "      <td>Afganistán</td>\n",
       "      <td>NaN</td>\n",
       "      <td>NaN</td>\n",
       "      <td>NaN</td>\n",
       "      <td>NaN</td>\n",
       "      <td>NaN</td>\n",
       "      <td>NaN</td>\n",
       "      <td>NaN</td>\n",
       "      <td>NaN</td>\n",
       "      <td>NaN</td>\n",
       "      <td>...</td>\n",
       "      <td>12.752287</td>\n",
       "      <td>5.600745</td>\n",
       "      <td>2.724543</td>\n",
       "      <td>1.451315</td>\n",
       "      <td>2.260314</td>\n",
       "      <td>2.647003</td>\n",
       "      <td>1.189228</td>\n",
       "      <td>3.911603</td>\n",
       "      <td>-2.351101</td>\n",
       "      <td>-20.737146</td>\n",
       "    </tr>\n",
       "    <tr>\n",
       "      <th>3</th>\n",
       "      <td>NaN</td>\n",
       "      <td>NaN</td>\n",
       "      <td>1.835056</td>\n",
       "      <td>3.772898</td>\n",
       "      <td>7.282985</td>\n",
       "      <td>5.392705</td>\n",
       "      <td>4.056588</td>\n",
       "      <td>-1.807283</td>\n",
       "      <td>-9.595925</td>\n",
       "      <td>1.445941</td>\n",
       "      <td>...</td>\n",
       "      <td>5.135584</td>\n",
       "      <td>6.108758</td>\n",
       "      <td>5.930450</td>\n",
       "      <td>2.745137</td>\n",
       "      <td>0.113687</td>\n",
       "      <td>2.305623</td>\n",
       "      <td>2.946175</td>\n",
       "      <td>3.190879</td>\n",
       "      <td>-0.900382</td>\n",
       "      <td>3.965399</td>\n",
       "    </tr>\n",
       "    <tr>\n",
       "      <th>4</th>\n",
       "      <td>Angola</td>\n",
       "      <td>NaN</td>\n",
       "      <td>NaN</td>\n",
       "      <td>NaN</td>\n",
       "      <td>NaN</td>\n",
       "      <td>NaN</td>\n",
       "      <td>NaN</td>\n",
       "      <td>NaN</td>\n",
       "      <td>NaN</td>\n",
       "      <td>NaN</td>\n",
       "      <td>...</td>\n",
       "      <td>8.540000</td>\n",
       "      <td>4.950000</td>\n",
       "      <td>4.820000</td>\n",
       "      <td>0.940000</td>\n",
       "      <td>-2.580000</td>\n",
       "      <td>-0.150000</td>\n",
       "      <td>-1.316312</td>\n",
       "      <td>-0.700000</td>\n",
       "      <td>-5.600000</td>\n",
       "      <td>1.100000</td>\n",
       "    </tr>\n",
       "  </tbody>\n",
       "</table>\n",
       "<p>5 rows × 63 columns</p>\n",
       "</div>"
      ],
      "text/plain": [
       "  Country Name  1960      1961      1962      1963      1964      1965  \\\n",
       "0        Aruba   NaN       NaN       NaN       NaN       NaN       NaN   \n",
       "1          NaN   NaN  0.237304  7.984460  5.163873  4.583677  5.328044   \n",
       "2   Afganistán   NaN       NaN       NaN       NaN       NaN       NaN   \n",
       "3          NaN   NaN  1.835056  3.772898  7.282985  5.392705  4.056588   \n",
       "4       Angola   NaN       NaN       NaN       NaN       NaN       NaN   \n",
       "\n",
       "       1966      1967      1968  ...       2012      2013      2014      2015  \\\n",
       "0       NaN       NaN       NaN  ...  -1.035375  6.429817 -0.020479  3.543630   \n",
       "1  3.913909  5.255309  4.026302  ...   0.770097  4.229408  4.039082  2.895728   \n",
       "2       NaN       NaN       NaN  ...  12.752287  5.600745  2.724543  1.451315   \n",
       "3 -1.807283 -9.595925  1.445941  ...   5.135584  6.108758  5.930450  2.745137   \n",
       "4       NaN       NaN       NaN  ...   8.540000  4.950000  4.820000  0.940000   \n",
       "\n",
       "       2016      2017      2018      2019       2020       2021  \n",
       "0  2.116716  5.482371  5.257856  0.635029 -18.589100  17.172509  \n",
       "1  2.485952  2.639537  2.610797  2.038299  -3.042653   4.402447  \n",
       "2  2.260314  2.647003  1.189228  3.911603  -2.351101 -20.737146  \n",
       "3  0.113687  2.305623  2.946175  3.190879  -0.900382   3.965399  \n",
       "4 -2.580000 -0.150000 -1.316312 -0.700000  -5.600000   1.100000  \n",
       "\n",
       "[5 rows x 63 columns]"
      ]
     },
     "execution_count": 51,
     "metadata": {},
     "output_type": "execute_result"
    }
   ],
   "source": [
    "pib = pd.read_excel('./app/data/pib_banco_mundial.xls', header=3)\n",
    "pib.drop(columns=[\"Country Code\", \"Indicator Name\", \"Indicator Code\"], axis=1, inplace=True)\n",
    "pib.head()"
   ]
  },
  {
   "cell_type": "code",
   "execution_count": 52,
   "id": "d76c8c70",
   "metadata": {},
   "outputs": [
    {
     "data": {
      "text/html": [
       "<div>\n",
       "<style scoped>\n",
       "    .dataframe tbody tr th:only-of-type {\n",
       "        vertical-align: middle;\n",
       "    }\n",
       "\n",
       "    .dataframe tbody tr th {\n",
       "        vertical-align: top;\n",
       "    }\n",
       "\n",
       "    .dataframe thead th {\n",
       "        text-align: right;\n",
       "    }\n",
       "</style>\n",
       "<table border=\"1\" class=\"dataframe\">\n",
       "  <thead>\n",
       "    <tr style=\"text-align: right;\">\n",
       "      <th></th>\n",
       "      <th>index</th>\n",
       "      <th>0</th>\n",
       "    </tr>\n",
       "  </thead>\n",
       "  <tbody>\n",
       "    <tr>\n",
       "      <th>0</th>\n",
       "      <td>Country Name</td>\n",
       "      <td>México</td>\n",
       "    </tr>\n",
       "    <tr>\n",
       "      <th>1</th>\n",
       "      <td>1960</td>\n",
       "      <td>NaN</td>\n",
       "    </tr>\n",
       "    <tr>\n",
       "      <th>2</th>\n",
       "      <td>1961</td>\n",
       "      <td>5.0</td>\n",
       "    </tr>\n",
       "    <tr>\n",
       "      <th>3</th>\n",
       "      <td>1962</td>\n",
       "      <td>4.664415</td>\n",
       "    </tr>\n",
       "    <tr>\n",
       "      <th>4</th>\n",
       "      <td>1963</td>\n",
       "      <td>8.106887</td>\n",
       "    </tr>\n",
       "    <tr>\n",
       "      <th>...</th>\n",
       "      <td>...</td>\n",
       "      <td>...</td>\n",
       "    </tr>\n",
       "    <tr>\n",
       "      <th>58</th>\n",
       "      <td>2017</td>\n",
       "      <td>2.113129</td>\n",
       "    </tr>\n",
       "    <tr>\n",
       "      <th>59</th>\n",
       "      <td>2018</td>\n",
       "      <td>2.194995</td>\n",
       "    </tr>\n",
       "    <tr>\n",
       "      <th>60</th>\n",
       "      <td>2019</td>\n",
       "      <td>-0.199048</td>\n",
       "    </tr>\n",
       "    <tr>\n",
       "      <th>61</th>\n",
       "      <td>2020</td>\n",
       "      <td>-7.987912</td>\n",
       "    </tr>\n",
       "    <tr>\n",
       "      <th>62</th>\n",
       "      <td>2021</td>\n",
       "      <td>4.720565</td>\n",
       "    </tr>\n",
       "  </tbody>\n",
       "</table>\n",
       "<p>63 rows × 2 columns</p>\n",
       "</div>"
      ],
      "text/plain": [
       "           index         0\n",
       "0   Country Name    México\n",
       "1           1960       NaN\n",
       "2           1961       5.0\n",
       "3           1962  4.664415\n",
       "4           1963  8.106887\n",
       "..           ...       ...\n",
       "58          2017  2.113129\n",
       "59          2018  2.194995\n",
       "60          2019 -0.199048\n",
       "61          2020 -7.987912\n",
       "62          2021  4.720565\n",
       "\n",
       "[63 rows x 2 columns]"
      ]
     },
     "execution_count": 52,
     "metadata": {},
     "output_type": "execute_result"
    }
   ],
   "source": [
    "mx = pib.loc[pib[\"Country Name\"] == \"México\"]\n",
    "mx.reset_index(drop=True, inplace=True)\n",
    "pib_mx = mx.T\n",
    "pib_mx.reset_index(inplace=True)\n",
    "pib_mx"
   ]
  },
  {
   "cell_type": "code",
   "execution_count": 53,
   "id": "c4b13c39",
   "metadata": {},
   "outputs": [
    {
     "data": {
      "text/html": [
       "<div>\n",
       "<style scoped>\n",
       "    .dataframe tbody tr th:only-of-type {\n",
       "        vertical-align: middle;\n",
       "    }\n",
       "\n",
       "    .dataframe tbody tr th {\n",
       "        vertical-align: top;\n",
       "    }\n",
       "\n",
       "    .dataframe thead th {\n",
       "        text-align: right;\n",
       "    }\n",
       "</style>\n",
       "<table border=\"1\" class=\"dataframe\">\n",
       "  <thead>\n",
       "    <tr style=\"text-align: right;\">\n",
       "      <th></th>\n",
       "      <th>pib_mx</th>\n",
       "    </tr>\n",
       "    <tr>\n",
       "      <th>year</th>\n",
       "      <th></th>\n",
       "    </tr>\n",
       "  </thead>\n",
       "  <tbody>\n",
       "    <tr>\n",
       "      <th>1960</th>\n",
       "      <td>NaN</td>\n",
       "    </tr>\n",
       "    <tr>\n",
       "      <th>1961</th>\n",
       "      <td>5.0</td>\n",
       "    </tr>\n",
       "    <tr>\n",
       "      <th>1962</th>\n",
       "      <td>4.664415</td>\n",
       "    </tr>\n",
       "    <tr>\n",
       "      <th>1963</th>\n",
       "      <td>8.106887</td>\n",
       "    </tr>\n",
       "    <tr>\n",
       "      <th>1964</th>\n",
       "      <td>11.905481</td>\n",
       "    </tr>\n",
       "    <tr>\n",
       "      <th>...</th>\n",
       "      <td>...</td>\n",
       "    </tr>\n",
       "    <tr>\n",
       "      <th>2017</th>\n",
       "      <td>2.113129</td>\n",
       "    </tr>\n",
       "    <tr>\n",
       "      <th>2018</th>\n",
       "      <td>2.194995</td>\n",
       "    </tr>\n",
       "    <tr>\n",
       "      <th>2019</th>\n",
       "      <td>-0.199048</td>\n",
       "    </tr>\n",
       "    <tr>\n",
       "      <th>2020</th>\n",
       "      <td>-7.987912</td>\n",
       "    </tr>\n",
       "    <tr>\n",
       "      <th>2021</th>\n",
       "      <td>4.720565</td>\n",
       "    </tr>\n",
       "  </tbody>\n",
       "</table>\n",
       "<p>62 rows × 1 columns</p>\n",
       "</div>"
      ],
      "text/plain": [
       "         pib_mx\n",
       "year           \n",
       "1960        NaN\n",
       "1961        5.0\n",
       "1962   4.664415\n",
       "1963   8.106887\n",
       "1964  11.905481\n",
       "...         ...\n",
       "2017   2.113129\n",
       "2018   2.194995\n",
       "2019  -0.199048\n",
       "2020  -7.987912\n",
       "2021   4.720565\n",
       "\n",
       "[62 rows x 1 columns]"
      ]
     },
     "execution_count": 53,
     "metadata": {},
     "output_type": "execute_result"
    }
   ],
   "source": [
    "pib_mx.drop(0, axis=0, inplace=True)\n",
    "pib_mx.rename(columns={\"index\": \"year\", 0: \"pib_mx\"}, inplace=True)\n",
    "pib_mx.set_index('year', inplace=True)\n",
    "pib_mx"
   ]
  },
  {
   "cell_type": "code",
   "execution_count": 54,
   "id": "acb78722",
   "metadata": {},
   "outputs": [],
   "source": [
    "pib_mx.reset_index(inplace=True)"
   ]
  },
  {
   "cell_type": "code",
   "execution_count": 55,
   "id": "5c1cbde6-8d0c-4e94-89a0-2555afcaae77",
   "metadata": {
    "tags": []
   },
   "outputs": [
    {
     "data": {
      "text/html": [
       "<div>\n",
       "<style scoped>\n",
       "    .dataframe tbody tr th:only-of-type {\n",
       "        vertical-align: middle;\n",
       "    }\n",
       "\n",
       "    .dataframe tbody tr th {\n",
       "        vertical-align: top;\n",
       "    }\n",
       "\n",
       "    .dataframe thead th {\n",
       "        text-align: right;\n",
       "    }\n",
       "</style>\n",
       "<table border=\"1\" class=\"dataframe\">\n",
       "  <thead>\n",
       "    <tr style=\"text-align: right;\">\n",
       "      <th></th>\n",
       "      <th>year</th>\n",
       "      <th>pib_mx</th>\n",
       "    </tr>\n",
       "  </thead>\n",
       "  <tbody>\n",
       "    <tr>\n",
       "      <th>60</th>\n",
       "      <td>2020</td>\n",
       "      <td>-7.987912</td>\n",
       "    </tr>\n",
       "    <tr>\n",
       "      <th>61</th>\n",
       "      <td>2021</td>\n",
       "      <td>4.720565</td>\n",
       "    </tr>\n",
       "    <tr>\n",
       "      <th>62</th>\n",
       "      <td>2022</td>\n",
       "      <td>3.1</td>\n",
       "    </tr>\n",
       "    <tr>\n",
       "      <th>63</th>\n",
       "      <td>2023</td>\n",
       "      <td>3.0</td>\n",
       "    </tr>\n",
       "    <tr>\n",
       "      <th>64</th>\n",
       "      <td>2024</td>\n",
       "      <td>2.1</td>\n",
       "    </tr>\n",
       "  </tbody>\n",
       "</table>\n",
       "</div>"
      ],
      "text/plain": [
       "    year    pib_mx\n",
       "60  2020 -7.987912\n",
       "61  2021  4.720565\n",
       "62  2022       3.1\n",
       "63  2023       3.0\n",
       "64  2024       2.1"
      ]
     },
     "execution_count": 55,
     "metadata": {},
     "output_type": "execute_result"
    }
   ],
   "source": [
    "pib_2022_2024 = {\"year\": [2022, 2023, 2024], \"pib_mx\": [3.1, 3.0, 2.1]}\n",
    "pib2add = pd.DataFrame(pib_2022_2024)\n",
    "pib_mx = pd.concat([pib_mx,pib2add])\n",
    "pib_mx.reset_index(drop=True, inplace=True)\n",
    "pib_mx.tail()"
   ]
  },
  {
   "cell_type": "code",
   "execution_count": 56,
   "id": "a1745e58",
   "metadata": {},
   "outputs": [
    {
     "name": "stdout",
     "output_type": "stream",
     "text": [
      "Error sending data to SQL: Table 'pib_mx' already exists.\n"
     ]
    }
   ],
   "source": [
    "# Send data to mysql database\n",
    "send_sql_data(\n",
    "    db_connection, \n",
    "    pib_mx, \n",
    "    'pib_mx'\n",
    ")"
   ]
  },
  {
   "attachments": {
    "image-2.png": {
     "image/png": "[encoded data removed]"
    },
    "image-3.png": {
     "image/png": "[encoded data removed]"
    }
   },
   "cell_type": "markdown",
   "id": "1c0b5f89",
   "metadata": {},
   "source": [
    "* Download selected files\n",
    "![image-3.png](attachment:image-3.png)\n",
    "\n",
    "* Query and then download all files\n",
    "![image-2.png](attachment:image-2.png)"
   ]
  },
  {
   "cell_type": "code",
   "execution_count": 58,
   "id": "d86c41fe",
   "metadata": {},
   "outputs": [],
   "source": [
    "campo_df = gpd.read_file('./app/data/Campos (Reservas 01_01_2022)/Campos (Reservas 01-01-2022).shp')\n",
    "a_profundas = gpd.read_file('./app/data/Zona Aguas Profundas/Zona Aguas Profundas.shp')\n",
    "someras = gpd.read_file('./app/data/Zona Aguas Someras/Zona Aguas Someras.shp')\n",
    "burgos = gpd.read_file('./app/data/Zona Burgos/Zona Burgos.shp')\n",
    "sureste = gpd.read_file('./app/data/Zona Cuencas del Sureste/Zona Cuencas del Sureste.shp')\n",
    "tm = gpd.read_file('./app/data/Zona Tampico-Misantla/Zona Tampico-Misantla.shp')\n",
    "v = gpd.read_file('./app/data/Zona Veracruz/Zona Veracruz.shp')"
   ]
  },
  {
   "cell_type": "code",
   "execution_count": 59,
   "id": "761ff4a2",
   "metadata": {},
   "outputs": [
    {
     "data": {
      "text/html": [
       "<div>\n",
       "<style scoped>\n",
       "    .dataframe tbody tr th:only-of-type {\n",
       "        vertical-align: middle;\n",
       "    }\n",
       "\n",
       "    .dataframe tbody tr th {\n",
       "        vertical-align: top;\n",
       "    }\n",
       "\n",
       "    .dataframe thead th {\n",
       "        text-align: right;\n",
       "    }\n",
       "</style>\n",
       "<table border=\"1\" class=\"dataframe\">\n",
       "  <thead>\n",
       "    <tr style=\"text-align: right;\">\n",
       "      <th></th>\n",
       "      <th>pozo</th>\n",
       "      <th>campo</th>\n",
       "      <th>entidad</th>\n",
       "      <th>ubicacin</th>\n",
       "      <th>clasificac</th>\n",
       "      <th>estado_act</th>\n",
       "      <th>tipo_de_hi</th>\n",
       "      <th>fecha_inic</th>\n",
       "      <th>fecha_fin_</th>\n",
       "      <th>profundida</th>\n",
       "      <th>profundi_1</th>\n",
       "      <th>trayectori</th>\n",
       "      <th>disponible</th>\n",
       "      <th>geometry</th>\n",
       "    </tr>\n",
       "  </thead>\n",
       "  <tbody>\n",
       "    <tr>\n",
       "      <th>0</th>\n",
       "      <td>LAKACH-2</td>\n",
       "      <td>LAKACH</td>\n",
       "      <td>AGUAS TERRITORIALES</td>\n",
       "      <td>AGUAS PROFUNDAS</td>\n",
       "      <td>DESARROLLO</td>\n",
       "      <td>ABANDONO TEMPORAL</td>\n",
       "      <td>GAS</td>\n",
       "      <td>20-OCT-2013</td>\n",
       "      <td>24-MAR-2014</td>\n",
       "      <td>3265.0</td>\n",
       "      <td>3265.0</td>\n",
       "      <td>VERTICAL</td>\n",
       "      <td>DISPONIBLE</td>\n",
       "      <td>POINT (-95.25447 19.02749)</td>\n",
       "    </tr>\n",
       "    <tr>\n",
       "      <th>1</th>\n",
       "      <td>LAKACH-52</td>\n",
       "      <td>LAKACH</td>\n",
       "      <td>AGUAS TERRITORIALES</td>\n",
       "      <td>AGUAS PROFUNDAS</td>\n",
       "      <td>DESARROLLO</td>\n",
       "      <td>ABANDONO TEMPORAL</td>\n",
       "      <td>GAS HUMEDO</td>\n",
       "      <td>26-AGO-2014</td>\n",
       "      <td>16-NOV-2014</td>\n",
       "      <td>4535.0</td>\n",
       "      <td>3243.0</td>\n",
       "      <td>DIRECCIONAL</td>\n",
       "      <td>DISPONIBLE</td>\n",
       "      <td>POINT (-95.27882 19.04477)</td>\n",
       "    </tr>\n",
       "    <tr>\n",
       "      <th>2</th>\n",
       "      <td>LAKACH-114</td>\n",
       "      <td>LAKACH</td>\n",
       "      <td>AGUAS TERRITORIALES</td>\n",
       "      <td>AGUAS PROFUNDAS</td>\n",
       "      <td>DESARROLLO</td>\n",
       "      <td>ABANDONO TEMPORAL</td>\n",
       "      <td>GAS HUMEDO</td>\n",
       "      <td>06-DIC-2014</td>\n",
       "      <td>23-FEB-2015</td>\n",
       "      <td>3820.0</td>\n",
       "      <td>3249.0</td>\n",
       "      <td>DIRECCIONAL</td>\n",
       "      <td>DISPONIBLE</td>\n",
       "      <td>POINT (-95.27183 19.07247)</td>\n",
       "    </tr>\n",
       "    <tr>\n",
       "      <th>3</th>\n",
       "      <td>LAKACH-32</td>\n",
       "      <td>LAKACH</td>\n",
       "      <td>AGUAS TERRITORIALES</td>\n",
       "      <td>AGUAS PROFUNDAS</td>\n",
       "      <td>DESARROLLO</td>\n",
       "      <td>ABANDONO TEMPORAL</td>\n",
       "      <td>GAS HUMEDO</td>\n",
       "      <td>18-JUN-2014</td>\n",
       "      <td>21-NOV-2014</td>\n",
       "      <td>3293.0</td>\n",
       "      <td>3293.0</td>\n",
       "      <td>VERTICAL</td>\n",
       "      <td>DISPONIBLE</td>\n",
       "      <td>POINT (-95.26623 19.0539)</td>\n",
       "    </tr>\n",
       "    <tr>\n",
       "      <th>4</th>\n",
       "      <td>LAKACH-1</td>\n",
       "      <td>LAKACH</td>\n",
       "      <td>AGUAS TERRITORIALES</td>\n",
       "      <td>AGUAS PROFUNDAS</td>\n",
       "      <td>EXPLORATORIO</td>\n",
       "      <td>ABANDONO TEMPORAL</td>\n",
       "      <td>GAS SECO</td>\n",
       "      <td>10-JUL-2006</td>\n",
       "      <td>13-NOV-2006</td>\n",
       "      <td>3813.0</td>\n",
       "      <td>3813.0</td>\n",
       "      <td>VERTICAL</td>\n",
       "      <td>DISPONIBLE</td>\n",
       "      <td>POINT (-95.25364 19.02183)</td>\n",
       "    </tr>\n",
       "  </tbody>\n",
       "</table>\n",
       "</div>"
      ],
      "text/plain": [
       "         pozo   campo              entidad         ubicacin    clasificac  \\\n",
       "0    LAKACH-2  LAKACH  AGUAS TERRITORIALES  AGUAS PROFUNDAS    DESARROLLO   \n",
       "1   LAKACH-52  LAKACH  AGUAS TERRITORIALES  AGUAS PROFUNDAS    DESARROLLO   \n",
       "2  LAKACH-114  LAKACH  AGUAS TERRITORIALES  AGUAS PROFUNDAS    DESARROLLO   \n",
       "3   LAKACH-32  LAKACH  AGUAS TERRITORIALES  AGUAS PROFUNDAS    DESARROLLO   \n",
       "4    LAKACH-1  LAKACH  AGUAS TERRITORIALES  AGUAS PROFUNDAS  EXPLORATORIO   \n",
       "\n",
       "          estado_act  tipo_de_hi   fecha_inic   fecha_fin_  profundida  \\\n",
       "0  ABANDONO TEMPORAL         GAS  20-OCT-2013  24-MAR-2014      3265.0   \n",
       "1  ABANDONO TEMPORAL  GAS HUMEDO  26-AGO-2014  16-NOV-2014      4535.0   \n",
       "2  ABANDONO TEMPORAL  GAS HUMEDO  06-DIC-2014  23-FEB-2015      3820.0   \n",
       "3  ABANDONO TEMPORAL  GAS HUMEDO  18-JUN-2014  21-NOV-2014      3293.0   \n",
       "4  ABANDONO TEMPORAL    GAS SECO  10-JUL-2006  13-NOV-2006      3813.0   \n",
       "\n",
       "   profundi_1   trayectori  disponible                    geometry  \n",
       "0      3265.0     VERTICAL  DISPONIBLE  POINT (-95.25447 19.02749)  \n",
       "1      3243.0  DIRECCIONAL  DISPONIBLE  POINT (-95.27882 19.04477)  \n",
       "2      3249.0  DIRECCIONAL  DISPONIBLE  POINT (-95.27183 19.07247)  \n",
       "3      3293.0     VERTICAL  DISPONIBLE   POINT (-95.26623 19.0539)  \n",
       "4      3813.0     VERTICAL  DISPONIBLE  POINT (-95.25364 19.02183)  "
      ]
     },
     "execution_count": 59,
     "metadata": {},
     "output_type": "execute_result"
    }
   ],
   "source": [
    "all_zones = [a_profundas, someras, burgos, sureste, tm, v]\n",
    "geodf_wells = GeoDataFrame(pd.concat(all_zones, ignore_index=True))\n",
    "geodf_wells.head()"
   ]
  },
  {
   "cell_type": "code",
   "execution_count": 60,
   "id": "b80422af",
   "metadata": {},
   "outputs": [
    {
     "data": {
      "text/plain": [
       "Index(['pozo', 'campo', 'entidad', 'ubicacin', 'clasificac', 'estado_act',\n",
       "       'tipo_de_hi', 'fecha_inic', 'fecha_fin_', 'profundida', 'profundi_1',\n",
       "       'trayectori', 'disponible', 'geometry'],\n",
       "      dtype='object')"
      ]
     },
     "execution_count": 60,
     "metadata": {},
     "output_type": "execute_result"
    }
   ],
   "source": [
    "geodf_wells.columns"
   ]
  },
  {
   "cell_type": "code",
   "execution_count": 61,
   "id": "bb6e6767",
   "metadata": {},
   "outputs": [
    {
     "data": {
      "text/html": [
       "<div>\n",
       "<style scoped>\n",
       "    .dataframe tbody tr th:only-of-type {\n",
       "        vertical-align: middle;\n",
       "    }\n",
       "\n",
       "    .dataframe tbody tr th {\n",
       "        vertical-align: top;\n",
       "    }\n",
       "\n",
       "    .dataframe thead th {\n",
       "        text-align: right;\n",
       "    }\n",
       "</style>\n",
       "<table border=\"1\" class=\"dataframe\">\n",
       "  <thead>\n",
       "    <tr style=\"text-align: right;\">\n",
       "      <th></th>\n",
       "      <th>pozo</th>\n",
       "      <th>campo</th>\n",
       "      <th>entidad</th>\n",
       "      <th>ubicacion</th>\n",
       "      <th>clasificacion</th>\n",
       "      <th>estatus</th>\n",
       "      <th>tipo_hcs</th>\n",
       "      <th>fecha_inicio</th>\n",
       "      <th>fecha_fin</th>\n",
       "      <th>profundidadD</th>\n",
       "      <th>profundidadV</th>\n",
       "      <th>trayectoria</th>\n",
       "      <th>disponible</th>\n",
       "      <th>geometry</th>\n",
       "    </tr>\n",
       "  </thead>\n",
       "  <tbody>\n",
       "    <tr>\n",
       "      <th>0</th>\n",
       "      <td>LAKACH-2</td>\n",
       "      <td>LAKACH</td>\n",
       "      <td>AGUAS TERRITORIALES</td>\n",
       "      <td>AGUAS PROFUNDAS</td>\n",
       "      <td>DESARROLLO</td>\n",
       "      <td>ABANDONO TEMPORAL</td>\n",
       "      <td>GAS</td>\n",
       "      <td>20-OCT-2013</td>\n",
       "      <td>24-MAR-2014</td>\n",
       "      <td>3265.0</td>\n",
       "      <td>3265.0</td>\n",
       "      <td>VERTICAL</td>\n",
       "      <td>DISPONIBLE</td>\n",
       "      <td>POINT (-95.25447 19.02749)</td>\n",
       "    </tr>\n",
       "    <tr>\n",
       "      <th>1</th>\n",
       "      <td>LAKACH-52</td>\n",
       "      <td>LAKACH</td>\n",
       "      <td>AGUAS TERRITORIALES</td>\n",
       "      <td>AGUAS PROFUNDAS</td>\n",
       "      <td>DESARROLLO</td>\n",
       "      <td>ABANDONO TEMPORAL</td>\n",
       "      <td>GAS HUMEDO</td>\n",
       "      <td>26-AGO-2014</td>\n",
       "      <td>16-NOV-2014</td>\n",
       "      <td>4535.0</td>\n",
       "      <td>3243.0</td>\n",
       "      <td>DIRECCIONAL</td>\n",
       "      <td>DISPONIBLE</td>\n",
       "      <td>POINT (-95.27882 19.04477)</td>\n",
       "    </tr>\n",
       "    <tr>\n",
       "      <th>2</th>\n",
       "      <td>LAKACH-114</td>\n",
       "      <td>LAKACH</td>\n",
       "      <td>AGUAS TERRITORIALES</td>\n",
       "      <td>AGUAS PROFUNDAS</td>\n",
       "      <td>DESARROLLO</td>\n",
       "      <td>ABANDONO TEMPORAL</td>\n",
       "      <td>GAS HUMEDO</td>\n",
       "      <td>06-DIC-2014</td>\n",
       "      <td>23-FEB-2015</td>\n",
       "      <td>3820.0</td>\n",
       "      <td>3249.0</td>\n",
       "      <td>DIRECCIONAL</td>\n",
       "      <td>DISPONIBLE</td>\n",
       "      <td>POINT (-95.27183 19.07247)</td>\n",
       "    </tr>\n",
       "    <tr>\n",
       "      <th>3</th>\n",
       "      <td>LAKACH-32</td>\n",
       "      <td>LAKACH</td>\n",
       "      <td>AGUAS TERRITORIALES</td>\n",
       "      <td>AGUAS PROFUNDAS</td>\n",
       "      <td>DESARROLLO</td>\n",
       "      <td>ABANDONO TEMPORAL</td>\n",
       "      <td>GAS HUMEDO</td>\n",
       "      <td>18-JUN-2014</td>\n",
       "      <td>21-NOV-2014</td>\n",
       "      <td>3293.0</td>\n",
       "      <td>3293.0</td>\n",
       "      <td>VERTICAL</td>\n",
       "      <td>DISPONIBLE</td>\n",
       "      <td>POINT (-95.26623 19.0539)</td>\n",
       "    </tr>\n",
       "    <tr>\n",
       "      <th>4</th>\n",
       "      <td>LAKACH-1</td>\n",
       "      <td>LAKACH</td>\n",
       "      <td>AGUAS TERRITORIALES</td>\n",
       "      <td>AGUAS PROFUNDAS</td>\n",
       "      <td>EXPLORATORIO</td>\n",
       "      <td>ABANDONO TEMPORAL</td>\n",
       "      <td>GAS SECO</td>\n",
       "      <td>10-JUL-2006</td>\n",
       "      <td>13-NOV-2006</td>\n",
       "      <td>3813.0</td>\n",
       "      <td>3813.0</td>\n",
       "      <td>VERTICAL</td>\n",
       "      <td>DISPONIBLE</td>\n",
       "      <td>POINT (-95.25364 19.02183)</td>\n",
       "    </tr>\n",
       "  </tbody>\n",
       "</table>\n",
       "</div>"
      ],
      "text/plain": [
       "         pozo   campo              entidad        ubicacion clasificacion  \\\n",
       "0    LAKACH-2  LAKACH  AGUAS TERRITORIALES  AGUAS PROFUNDAS    DESARROLLO   \n",
       "1   LAKACH-52  LAKACH  AGUAS TERRITORIALES  AGUAS PROFUNDAS    DESARROLLO   \n",
       "2  LAKACH-114  LAKACH  AGUAS TERRITORIALES  AGUAS PROFUNDAS    DESARROLLO   \n",
       "3   LAKACH-32  LAKACH  AGUAS TERRITORIALES  AGUAS PROFUNDAS    DESARROLLO   \n",
       "4    LAKACH-1  LAKACH  AGUAS TERRITORIALES  AGUAS PROFUNDAS  EXPLORATORIO   \n",
       "\n",
       "             estatus    tipo_hcs fecha_inicio    fecha_fin  profundidadD  \\\n",
       "0  ABANDONO TEMPORAL         GAS  20-OCT-2013  24-MAR-2014        3265.0   \n",
       "1  ABANDONO TEMPORAL  GAS HUMEDO  26-AGO-2014  16-NOV-2014        4535.0   \n",
       "2  ABANDONO TEMPORAL  GAS HUMEDO  06-DIC-2014  23-FEB-2015        3820.0   \n",
       "3  ABANDONO TEMPORAL  GAS HUMEDO  18-JUN-2014  21-NOV-2014        3293.0   \n",
       "4  ABANDONO TEMPORAL    GAS SECO  10-JUL-2006  13-NOV-2006        3813.0   \n",
       "\n",
       "   profundidadV  trayectoria  disponible                    geometry  \n",
       "0        3265.0     VERTICAL  DISPONIBLE  POINT (-95.25447 19.02749)  \n",
       "1        3243.0  DIRECCIONAL  DISPONIBLE  POINT (-95.27882 19.04477)  \n",
       "2        3249.0  DIRECCIONAL  DISPONIBLE  POINT (-95.27183 19.07247)  \n",
       "3        3293.0     VERTICAL  DISPONIBLE   POINT (-95.26623 19.0539)  \n",
       "4        3813.0     VERTICAL  DISPONIBLE  POINT (-95.25364 19.02183)  "
      ]
     },
     "execution_count": 61,
     "metadata": {},
     "output_type": "execute_result"
    }
   ],
   "source": [
    "geodf_wells.rename(\n",
    "    columns=\n",
    "    {\n",
    "        'ubicacin':'ubicacion', \n",
    "        'clasificac':'clasificacion', \n",
    "        'estado_act':'estatus', \n",
    "        'tipo_de_hi':'tipo_hcs', \n",
    "        'fecha_inic':'fecha_inicio', \n",
    "        'fecha_fin_':'fecha_fin', \n",
    "        'profundida':'profundidadD', \n",
    "        'profundi_1':'profundidadV', \n",
    "        'trayectori':'trayectoria'\n",
    "    }, \n",
    "inplace=True\n",
    ")\n",
    "geodf_wells.head()"
   ]
  },
  {
   "cell_type": "code",
   "execution_count": 62,
   "id": "84c0378d",
   "metadata": {},
   "outputs": [
    {
     "data": {
      "text/html": [
       "<div>\n",
       "<style scoped>\n",
       "    .dataframe tbody tr th:only-of-type {\n",
       "        vertical-align: middle;\n",
       "    }\n",
       "\n",
       "    .dataframe tbody tr th {\n",
       "        vertical-align: top;\n",
       "    }\n",
       "\n",
       "    .dataframe thead th {\n",
       "        text-align: right;\n",
       "    }\n",
       "</style>\n",
       "<table border=\"1\" class=\"dataframe\">\n",
       "  <thead>\n",
       "    <tr style=\"text-align: right;\">\n",
       "      <th></th>\n",
       "      <th>pozo</th>\n",
       "      <th>campo</th>\n",
       "      <th>entidad</th>\n",
       "      <th>ubicacion</th>\n",
       "      <th>clasificacion</th>\n",
       "      <th>estatus</th>\n",
       "      <th>tipo_hcs</th>\n",
       "      <th>fecha_inicio</th>\n",
       "      <th>fecha_fin</th>\n",
       "      <th>profundidadD</th>\n",
       "      <th>profundidadV</th>\n",
       "      <th>trayectoria</th>\n",
       "      <th>disponible</th>\n",
       "      <th>geometry</th>\n",
       "    </tr>\n",
       "  </thead>\n",
       "  <tbody>\n",
       "    <tr>\n",
       "      <th>33872</th>\n",
       "      <td>COCUITE-416</td>\n",
       "      <td>COCUITE</td>\n",
       "      <td>VERACRUZ DE IGNACIO DE LA LLAVE</td>\n",
       "      <td>TERRESTRE</td>\n",
       "      <td>DESARROLLO</td>\n",
       "      <td>INACTIVO</td>\n",
       "      <td>GAS</td>\n",
       "      <td>23-SEP-2002</td>\n",
       "      <td>04-NOV-2002</td>\n",
       "      <td>3069.0</td>\n",
       "      <td>2837.7</td>\n",
       "      <td>DIRECCIONAL</td>\n",
       "      <td>DISPONIBLE</td>\n",
       "      <td>POINT (-96.00667 18.63981)</td>\n",
       "    </tr>\n",
       "    <tr>\n",
       "      <th>33873</th>\n",
       "      <td>CAUCHY-191</td>\n",
       "      <td>CAUCHY</td>\n",
       "      <td>VERACRUZ DE IGNACIO DE LA LLAVE</td>\n",
       "      <td>TERRESTRE</td>\n",
       "      <td>DESARROLLO</td>\n",
       "      <td>PRODUCTOR</td>\n",
       "      <td>GAS</td>\n",
       "      <td>14-ENE-2010</td>\n",
       "      <td>09-FEB-2010</td>\n",
       "      <td>3366.0</td>\n",
       "      <td>1959.7</td>\n",
       "      <td>DIRECCIONAL</td>\n",
       "      <td>DISPONIBLE</td>\n",
       "      <td>POINT (-95.73586 18.11375)</td>\n",
       "    </tr>\n",
       "    <tr>\n",
       "      <th>33874</th>\n",
       "      <td>TLACOTALPAN-1</td>\n",
       "      <td>NO DISPONIBLE</td>\n",
       "      <td>VERACRUZ DE IGNACIO DE LA LLAVE</td>\n",
       "      <td>TERRESTRE</td>\n",
       "      <td>EXPLORATORIO</td>\n",
       "      <td>CERRADO</td>\n",
       "      <td>None</td>\n",
       "      <td>19-ABR-1959</td>\n",
       "      <td>12-AGO-1959</td>\n",
       "      <td>2441.0</td>\n",
       "      <td>2441.0</td>\n",
       "      <td>VERTICAL</td>\n",
       "      <td>DISPONIBLE</td>\n",
       "      <td>POINT (-95.60817 18.54614)</td>\n",
       "    </tr>\n",
       "    <tr>\n",
       "      <th>33875</th>\n",
       "      <td>PERDIZ-509</td>\n",
       "      <td>PERDIZ</td>\n",
       "      <td>VERACRUZ DE IGNACIO DE LA LLAVE</td>\n",
       "      <td>TERRESTRE</td>\n",
       "      <td>DESARROLLO</td>\n",
       "      <td>INACTIVO</td>\n",
       "      <td>ACEITE</td>\n",
       "      <td>07-ABR-2009</td>\n",
       "      <td>09-JUN-2009</td>\n",
       "      <td>3172.0</td>\n",
       "      <td>3041.0</td>\n",
       "      <td>DIRECCIONAL</td>\n",
       "      <td>DISPONIBLE</td>\n",
       "      <td>POINT (-96.12033 18.52003)</td>\n",
       "    </tr>\n",
       "    <tr>\n",
       "      <th>33876</th>\n",
       "      <td>GUINEA-1</td>\n",
       "      <td>PERDIZ</td>\n",
       "      <td>VERACRUZ DE IGNACIO DE LA LLAVE</td>\n",
       "      <td>TERRESTRE</td>\n",
       "      <td>EXPLORATORIO</td>\n",
       "      <td>CERRADO</td>\n",
       "      <td>None</td>\n",
       "      <td>27-ENE-2001</td>\n",
       "      <td>18-AGO-2001</td>\n",
       "      <td>3750.0</td>\n",
       "      <td>3750.0</td>\n",
       "      <td>VERTICAL</td>\n",
       "      <td>DISPONIBLE</td>\n",
       "      <td>POINT (-96.15755 18.52468)</td>\n",
       "    </tr>\n",
       "  </tbody>\n",
       "</table>\n",
       "</div>"
      ],
      "text/plain": [
       "                pozo          campo                          entidad  \\\n",
       "33872    COCUITE-416        COCUITE  VERACRUZ DE IGNACIO DE LA LLAVE   \n",
       "33873     CAUCHY-191         CAUCHY  VERACRUZ DE IGNACIO DE LA LLAVE   \n",
       "33874  TLACOTALPAN-1  NO DISPONIBLE  VERACRUZ DE IGNACIO DE LA LLAVE   \n",
       "33875     PERDIZ-509         PERDIZ  VERACRUZ DE IGNACIO DE LA LLAVE   \n",
       "33876       GUINEA-1         PERDIZ  VERACRUZ DE IGNACIO DE LA LLAVE   \n",
       "\n",
       "       ubicacion clasificacion    estatus tipo_hcs fecha_inicio    fecha_fin  \\\n",
       "33872  TERRESTRE    DESARROLLO   INACTIVO      GAS  23-SEP-2002  04-NOV-2002   \n",
       "33873  TERRESTRE    DESARROLLO  PRODUCTOR      GAS  14-ENE-2010  09-FEB-2010   \n",
       "33874  TERRESTRE  EXPLORATORIO    CERRADO     None  19-ABR-1959  12-AGO-1959   \n",
       "33875  TERRESTRE    DESARROLLO   INACTIVO   ACEITE  07-ABR-2009  09-JUN-2009   \n",
       "33876  TERRESTRE  EXPLORATORIO    CERRADO     None  27-ENE-2001  18-AGO-2001   \n",
       "\n",
       "       profundidadD  profundidadV  trayectoria  disponible  \\\n",
       "33872        3069.0        2837.7  DIRECCIONAL  DISPONIBLE   \n",
       "33873        3366.0        1959.7  DIRECCIONAL  DISPONIBLE   \n",
       "33874        2441.0        2441.0     VERTICAL  DISPONIBLE   \n",
       "33875        3172.0        3041.0  DIRECCIONAL  DISPONIBLE   \n",
       "33876        3750.0        3750.0     VERTICAL  DISPONIBLE   \n",
       "\n",
       "                         geometry  \n",
       "33872  POINT (-96.00667 18.63981)  \n",
       "33873  POINT (-95.73586 18.11375)  \n",
       "33874  POINT (-95.60817 18.54614)  \n",
       "33875  POINT (-96.12033 18.52003)  \n",
       "33876  POINT (-96.15755 18.52468)  "
      ]
     },
     "execution_count": 62,
     "metadata": {},
     "output_type": "execute_result"
    }
   ],
   "source": [
    "geodf_wells.tail()"
   ]
  },
  {
   "cell_type": "code",
   "execution_count": 63,
   "id": "26e842d4",
   "metadata": {},
   "outputs": [
    {
     "name": "stderr",
     "output_type": "stream",
     "text": [
      "C:\\Users\\ecast\\AppData\\Local\\Temp\\ipykernel_6536\\1761668963.py:4: UserWarning: Geometry is in a geographic CRS. Results from 'centroid' are likely incorrect. Use 'GeoSeries.to_crs()' to re-project geometries to a projected CRS before this operation.\n",
      "\n",
      "  geodf_wells['lon'] = geodf_wells.centroid.x\n",
      "C:\\Users\\ecast\\AppData\\Local\\Temp\\ipykernel_6536\\1761668963.py:5: UserWarning: Geometry is in a geographic CRS. Results from 'centroid' are likely incorrect. Use 'GeoSeries.to_crs()' to re-project geometries to a projected CRS before this operation.\n",
      "\n",
      "  geodf_wells['lat'] = geodf_wells.centroid.y\n"
     ]
    }
   ],
   "source": [
    "geodf_wells = geodf_wells.to_crs(crs=4326)\n",
    "# geodf_wells = geodf_wells.to_crs(epsg=3857)\n",
    "\n",
    "geodf_wells['lon'] = geodf_wells.centroid.x\n",
    "geodf_wells['lat'] = geodf_wells.centroid.y"
   ]
  },
  {
   "cell_type": "code",
   "execution_count": 64,
   "id": "3455a9c2",
   "metadata": {},
   "outputs": [
    {
     "data": {
      "text/html": [
       "<div>\n",
       "<style scoped>\n",
       "    .dataframe tbody tr th:only-of-type {\n",
       "        vertical-align: middle;\n",
       "    }\n",
       "\n",
       "    .dataframe tbody tr th {\n",
       "        vertical-align: top;\n",
       "    }\n",
       "\n",
       "    .dataframe thead th {\n",
       "        text-align: right;\n",
       "    }\n",
       "</style>\n",
       "<table border=\"1\" class=\"dataframe\">\n",
       "  <thead>\n",
       "    <tr style=\"text-align: right;\">\n",
       "      <th></th>\n",
       "      <th>lat</th>\n",
       "      <th>lon</th>\n",
       "    </tr>\n",
       "  </thead>\n",
       "  <tbody>\n",
       "    <tr>\n",
       "      <th>0</th>\n",
       "      <td>19.027488</td>\n",
       "      <td>-95.254471</td>\n",
       "    </tr>\n",
       "    <tr>\n",
       "      <th>1</th>\n",
       "      <td>19.044774</td>\n",
       "      <td>-95.278819</td>\n",
       "    </tr>\n",
       "    <tr>\n",
       "      <th>2</th>\n",
       "      <td>19.072467</td>\n",
       "      <td>-95.271832</td>\n",
       "    </tr>\n",
       "    <tr>\n",
       "      <th>3</th>\n",
       "      <td>19.053898</td>\n",
       "      <td>-95.266226</td>\n",
       "    </tr>\n",
       "    <tr>\n",
       "      <th>4</th>\n",
       "      <td>19.021830</td>\n",
       "      <td>-95.253636</td>\n",
       "    </tr>\n",
       "  </tbody>\n",
       "</table>\n",
       "</div>"
      ],
      "text/plain": [
       "         lat        lon\n",
       "0  19.027488 -95.254471\n",
       "1  19.044774 -95.278819\n",
       "2  19.072467 -95.271832\n",
       "3  19.053898 -95.266226\n",
       "4  19.021830 -95.253636"
      ]
     },
     "execution_count": 64,
     "metadata": {},
     "output_type": "execute_result"
    }
   ],
   "source": [
    "geodf_wells[['lat', 'lon']].head()"
   ]
  },
  {
   "cell_type": "code",
   "execution_count": 65,
   "id": "2395c6d5",
   "metadata": {},
   "outputs": [
    {
     "data": {
      "text/html": [
       "<div>\n",
       "<style scoped>\n",
       "    .dataframe tbody tr th:only-of-type {\n",
       "        vertical-align: middle;\n",
       "    }\n",
       "\n",
       "    .dataframe tbody tr th {\n",
       "        vertical-align: top;\n",
       "    }\n",
       "\n",
       "    .dataframe thead th {\n",
       "        text-align: right;\n",
       "    }\n",
       "</style>\n",
       "<table border=\"1\" class=\"dataframe\">\n",
       "  <thead>\n",
       "    <tr style=\"text-align: right;\">\n",
       "      <th></th>\n",
       "      <th>pozo</th>\n",
       "      <th>campo</th>\n",
       "      <th>entidad</th>\n",
       "      <th>ubicacion</th>\n",
       "      <th>clasificacion</th>\n",
       "      <th>estatus</th>\n",
       "      <th>tipo_hcs</th>\n",
       "      <th>fecha_inicio</th>\n",
       "      <th>fecha_fin</th>\n",
       "      <th>profundidadD</th>\n",
       "      <th>profundidadV</th>\n",
       "      <th>trayectoria</th>\n",
       "      <th>disponible</th>\n",
       "      <th>geometry</th>\n",
       "      <th>lon</th>\n",
       "      <th>lat</th>\n",
       "    </tr>\n",
       "  </thead>\n",
       "  <tbody>\n",
       "    <tr>\n",
       "      <th>0</th>\n",
       "      <td>LAKACH-2</td>\n",
       "      <td>LAKACH</td>\n",
       "      <td>AGUAS TERRITORIALES</td>\n",
       "      <td>AGUAS PROFUNDAS</td>\n",
       "      <td>DESARROLLO</td>\n",
       "      <td>ABANDONO TEMPORAL</td>\n",
       "      <td>GAS</td>\n",
       "      <td>20-OCT-2013</td>\n",
       "      <td>24-MAR-2014</td>\n",
       "      <td>3265.0</td>\n",
       "      <td>3265.0</td>\n",
       "      <td>VERTICAL</td>\n",
       "      <td>DISPONIBLE</td>\n",
       "      <td>POINT (-95.25447 19.02749)</td>\n",
       "      <td>-95.254471</td>\n",
       "      <td>19.027488</td>\n",
       "    </tr>\n",
       "    <tr>\n",
       "      <th>1</th>\n",
       "      <td>LAKACH-52</td>\n",
       "      <td>LAKACH</td>\n",
       "      <td>AGUAS TERRITORIALES</td>\n",
       "      <td>AGUAS PROFUNDAS</td>\n",
       "      <td>DESARROLLO</td>\n",
       "      <td>ABANDONO TEMPORAL</td>\n",
       "      <td>GAS HUMEDO</td>\n",
       "      <td>26-AGO-2014</td>\n",
       "      <td>16-NOV-2014</td>\n",
       "      <td>4535.0</td>\n",
       "      <td>3243.0</td>\n",
       "      <td>DIRECCIONAL</td>\n",
       "      <td>DISPONIBLE</td>\n",
       "      <td>POINT (-95.27882 19.04477)</td>\n",
       "      <td>-95.278819</td>\n",
       "      <td>19.044774</td>\n",
       "    </tr>\n",
       "    <tr>\n",
       "      <th>2</th>\n",
       "      <td>LAKACH-114</td>\n",
       "      <td>LAKACH</td>\n",
       "      <td>AGUAS TERRITORIALES</td>\n",
       "      <td>AGUAS PROFUNDAS</td>\n",
       "      <td>DESARROLLO</td>\n",
       "      <td>ABANDONO TEMPORAL</td>\n",
       "      <td>GAS HUMEDO</td>\n",
       "      <td>06-DIC-2014</td>\n",
       "      <td>23-FEB-2015</td>\n",
       "      <td>3820.0</td>\n",
       "      <td>3249.0</td>\n",
       "      <td>DIRECCIONAL</td>\n",
       "      <td>DISPONIBLE</td>\n",
       "      <td>POINT (-95.27183 19.07247)</td>\n",
       "      <td>-95.271832</td>\n",
       "      <td>19.072467</td>\n",
       "    </tr>\n",
       "    <tr>\n",
       "      <th>3</th>\n",
       "      <td>LAKACH-32</td>\n",
       "      <td>LAKACH</td>\n",
       "      <td>AGUAS TERRITORIALES</td>\n",
       "      <td>AGUAS PROFUNDAS</td>\n",
       "      <td>DESARROLLO</td>\n",
       "      <td>ABANDONO TEMPORAL</td>\n",
       "      <td>GAS HUMEDO</td>\n",
       "      <td>18-JUN-2014</td>\n",
       "      <td>21-NOV-2014</td>\n",
       "      <td>3293.0</td>\n",
       "      <td>3293.0</td>\n",
       "      <td>VERTICAL</td>\n",
       "      <td>DISPONIBLE</td>\n",
       "      <td>POINT (-95.26623 19.0539)</td>\n",
       "      <td>-95.266226</td>\n",
       "      <td>19.053898</td>\n",
       "    </tr>\n",
       "    <tr>\n",
       "      <th>4</th>\n",
       "      <td>LAKACH-1</td>\n",
       "      <td>LAKACH</td>\n",
       "      <td>AGUAS TERRITORIALES</td>\n",
       "      <td>AGUAS PROFUNDAS</td>\n",
       "      <td>EXPLORATORIO</td>\n",
       "      <td>ABANDONO TEMPORAL</td>\n",
       "      <td>GAS SECO</td>\n",
       "      <td>10-JUL-2006</td>\n",
       "      <td>13-NOV-2006</td>\n",
       "      <td>3813.0</td>\n",
       "      <td>3813.0</td>\n",
       "      <td>VERTICAL</td>\n",
       "      <td>DISPONIBLE</td>\n",
       "      <td>POINT (-95.25364 19.02183)</td>\n",
       "      <td>-95.253636</td>\n",
       "      <td>19.021830</td>\n",
       "    </tr>\n",
       "  </tbody>\n",
       "</table>\n",
       "</div>"
      ],
      "text/plain": [
       "         pozo   campo              entidad        ubicacion clasificacion  \\\n",
       "0    LAKACH-2  LAKACH  AGUAS TERRITORIALES  AGUAS PROFUNDAS    DESARROLLO   \n",
       "1   LAKACH-52  LAKACH  AGUAS TERRITORIALES  AGUAS PROFUNDAS    DESARROLLO   \n",
       "2  LAKACH-114  LAKACH  AGUAS TERRITORIALES  AGUAS PROFUNDAS    DESARROLLO   \n",
       "3   LAKACH-32  LAKACH  AGUAS TERRITORIALES  AGUAS PROFUNDAS    DESARROLLO   \n",
       "4    LAKACH-1  LAKACH  AGUAS TERRITORIALES  AGUAS PROFUNDAS  EXPLORATORIO   \n",
       "\n",
       "             estatus    tipo_hcs fecha_inicio    fecha_fin  profundidadD  \\\n",
       "0  ABANDONO TEMPORAL         GAS  20-OCT-2013  24-MAR-2014        3265.0   \n",
       "1  ABANDONO TEMPORAL  GAS HUMEDO  26-AGO-2014  16-NOV-2014        4535.0   \n",
       "2  ABANDONO TEMPORAL  GAS HUMEDO  06-DIC-2014  23-FEB-2015        3820.0   \n",
       "3  ABANDONO TEMPORAL  GAS HUMEDO  18-JUN-2014  21-NOV-2014        3293.0   \n",
       "4  ABANDONO TEMPORAL    GAS SECO  10-JUL-2006  13-NOV-2006        3813.0   \n",
       "\n",
       "   profundidadV  trayectoria  disponible                    geometry  \\\n",
       "0        3265.0     VERTICAL  DISPONIBLE  POINT (-95.25447 19.02749)   \n",
       "1        3243.0  DIRECCIONAL  DISPONIBLE  POINT (-95.27882 19.04477)   \n",
       "2        3249.0  DIRECCIONAL  DISPONIBLE  POINT (-95.27183 19.07247)   \n",
       "3        3293.0     VERTICAL  DISPONIBLE   POINT (-95.26623 19.0539)   \n",
       "4        3813.0     VERTICAL  DISPONIBLE  POINT (-95.25364 19.02183)   \n",
       "\n",
       "         lon        lat  \n",
       "0 -95.254471  19.027488  \n",
       "1 -95.278819  19.044774  \n",
       "2 -95.271832  19.072467  \n",
       "3 -95.266226  19.053898  \n",
       "4 -95.253636  19.021830  "
      ]
     },
     "execution_count": 65,
     "metadata": {},
     "output_type": "execute_result"
    }
   ],
   "source": [
    "# Convert to dataframe\n",
    "df = pd.DataFrame(geodf_wells)\n",
    "df.head()"
   ]
  },
  {
   "cell_type": "code",
   "execution_count": 66,
   "id": "59e6332b",
   "metadata": {},
   "outputs": [],
   "source": [
    "# Change month language\n",
    "df[\"fecha_inicio\"] = df[\"fecha_inicio\"].str.replace(\"ENE\", \"JAN\")\n",
    "df[\"fecha_inicio\"] = df[\"fecha_inicio\"].str.replace(\"ABR\", \"APR\")\n",
    "df[\"fecha_inicio\"] = df[\"fecha_inicio\"].str.replace(\"AGO\", \"AUG\")\n",
    "df[\"fecha_inicio\"] = df[\"fecha_inicio\"].str.replace(\"DIC\", \"DEC\")\n",
    "df[\"fecha_fin\"] = df[\"fecha_fin\"].str.replace(\"ENE\", \"JAN\")\n",
    "df[\"fecha_fin\"] = df[\"fecha_fin\"].str.replace(\"ABR\", \"APR\")\n",
    "df[\"fecha_fin\"] = df[\"fecha_fin\"].str.replace(\"AGO\", \"AUG\")\n",
    "df[\"fecha_fin\"] = df[\"fecha_fin\"].str.replace(\"DIC\", \"DEC\")"
   ]
  },
  {
   "cell_type": "code",
   "execution_count": 67,
   "id": "2d9b45ef",
   "metadata": {},
   "outputs": [],
   "source": [
    "df.dropna(subset=[\"fecha_inicio\", \"fecha_fin\"], axis=0, inplace=True)"
   ]
  },
  {
   "cell_type": "code",
   "execution_count": 68,
   "id": "cf6d9ebd",
   "metadata": {},
   "outputs": [],
   "source": [
    "dates = df[[\"fecha_inicio\", \"fecha_fin\"]]"
   ]
  },
  {
   "cell_type": "code",
   "execution_count": 69,
   "id": "60da58a3",
   "metadata": {},
   "outputs": [],
   "source": [
    "# Pandas series with dates\n",
    "fechas = list(dates[\"fecha_inicio\"])\n",
    "fechas_fin = list(dates[\"fecha_fin\"])\n",
    "\n",
    "# empty list\n",
    "dates_init = []\n",
    "dates_end = []\n",
    "\n",
    "for i in range(len(fechas)):\n",
    "    date = datetime.strptime(fechas[i], '%d-%b-%Y')\n",
    "    i+=1\n",
    "    dates_init.append(date)\n",
    "    \n",
    "for j in range(len(fechas_fin)):\n",
    "    date_end = datetime.strptime(fechas_fin[j], '%d-%b-%Y')\n",
    "    j+=1\n",
    "    dates_end.append(date_end)"
   ]
  },
  {
   "cell_type": "code",
   "execution_count": 70,
   "id": "9d5c6734",
   "metadata": {},
   "outputs": [
    {
     "data": {
      "text/html": [
       "<div>\n",
       "<style scoped>\n",
       "    .dataframe tbody tr th:only-of-type {\n",
       "        vertical-align: middle;\n",
       "    }\n",
       "\n",
       "    .dataframe tbody tr th {\n",
       "        vertical-align: top;\n",
       "    }\n",
       "\n",
       "    .dataframe thead th {\n",
       "        text-align: right;\n",
       "    }\n",
       "</style>\n",
       "<table border=\"1\" class=\"dataframe\">\n",
       "  <thead>\n",
       "    <tr style=\"text-align: right;\">\n",
       "      <th></th>\n",
       "      <th>pozo</th>\n",
       "      <th>campo</th>\n",
       "      <th>entidad</th>\n",
       "      <th>ubicacion</th>\n",
       "      <th>clasificacion</th>\n",
       "      <th>estatus</th>\n",
       "      <th>tipo_hcs</th>\n",
       "      <th>fecha_inicio</th>\n",
       "      <th>fecha_fin</th>\n",
       "      <th>profundidadD</th>\n",
       "      <th>profundidadV</th>\n",
       "      <th>trayectoria</th>\n",
       "      <th>disponible</th>\n",
       "      <th>geometry</th>\n",
       "      <th>lon</th>\n",
       "      <th>lat</th>\n",
       "      <th>tiempo_operacion</th>\n",
       "    </tr>\n",
       "  </thead>\n",
       "  <tbody>\n",
       "    <tr>\n",
       "      <th>0</th>\n",
       "      <td>LAKACH-2</td>\n",
       "      <td>LAKACH</td>\n",
       "      <td>AGUAS TERRITORIALES</td>\n",
       "      <td>AGUAS PROFUNDAS</td>\n",
       "      <td>DESARROLLO</td>\n",
       "      <td>ABANDONO TEMPORAL</td>\n",
       "      <td>GAS</td>\n",
       "      <td>2013-10-20</td>\n",
       "      <td>2014-03-24</td>\n",
       "      <td>3265.0</td>\n",
       "      <td>3265.0</td>\n",
       "      <td>VERTICAL</td>\n",
       "      <td>DISPONIBLE</td>\n",
       "      <td>POINT (-95.25447 19.02749)</td>\n",
       "      <td>-95.254471</td>\n",
       "      <td>19.027488</td>\n",
       "      <td>155</td>\n",
       "    </tr>\n",
       "    <tr>\n",
       "      <th>1</th>\n",
       "      <td>LAKACH-52</td>\n",
       "      <td>LAKACH</td>\n",
       "      <td>AGUAS TERRITORIALES</td>\n",
       "      <td>AGUAS PROFUNDAS</td>\n",
       "      <td>DESARROLLO</td>\n",
       "      <td>ABANDONO TEMPORAL</td>\n",
       "      <td>GAS HUMEDO</td>\n",
       "      <td>2014-08-26</td>\n",
       "      <td>2014-11-16</td>\n",
       "      <td>4535.0</td>\n",
       "      <td>3243.0</td>\n",
       "      <td>DIRECCIONAL</td>\n",
       "      <td>DISPONIBLE</td>\n",
       "      <td>POINT (-95.27882 19.04477)</td>\n",
       "      <td>-95.278819</td>\n",
       "      <td>19.044774</td>\n",
       "      <td>82</td>\n",
       "    </tr>\n",
       "    <tr>\n",
       "      <th>2</th>\n",
       "      <td>LAKACH-114</td>\n",
       "      <td>LAKACH</td>\n",
       "      <td>AGUAS TERRITORIALES</td>\n",
       "      <td>AGUAS PROFUNDAS</td>\n",
       "      <td>DESARROLLO</td>\n",
       "      <td>ABANDONO TEMPORAL</td>\n",
       "      <td>GAS HUMEDO</td>\n",
       "      <td>2014-12-06</td>\n",
       "      <td>2015-02-23</td>\n",
       "      <td>3820.0</td>\n",
       "      <td>3249.0</td>\n",
       "      <td>DIRECCIONAL</td>\n",
       "      <td>DISPONIBLE</td>\n",
       "      <td>POINT (-95.27183 19.07247)</td>\n",
       "      <td>-95.271832</td>\n",
       "      <td>19.072467</td>\n",
       "      <td>79</td>\n",
       "    </tr>\n",
       "    <tr>\n",
       "      <th>3</th>\n",
       "      <td>LAKACH-32</td>\n",
       "      <td>LAKACH</td>\n",
       "      <td>AGUAS TERRITORIALES</td>\n",
       "      <td>AGUAS PROFUNDAS</td>\n",
       "      <td>DESARROLLO</td>\n",
       "      <td>ABANDONO TEMPORAL</td>\n",
       "      <td>GAS HUMEDO</td>\n",
       "      <td>2014-06-18</td>\n",
       "      <td>2014-11-21</td>\n",
       "      <td>3293.0</td>\n",
       "      <td>3293.0</td>\n",
       "      <td>VERTICAL</td>\n",
       "      <td>DISPONIBLE</td>\n",
       "      <td>POINT (-95.26623 19.0539)</td>\n",
       "      <td>-95.266226</td>\n",
       "      <td>19.053898</td>\n",
       "      <td>156</td>\n",
       "    </tr>\n",
       "    <tr>\n",
       "      <th>4</th>\n",
       "      <td>LAKACH-1</td>\n",
       "      <td>LAKACH</td>\n",
       "      <td>AGUAS TERRITORIALES</td>\n",
       "      <td>AGUAS PROFUNDAS</td>\n",
       "      <td>EXPLORATORIO</td>\n",
       "      <td>ABANDONO TEMPORAL</td>\n",
       "      <td>GAS SECO</td>\n",
       "      <td>2006-07-10</td>\n",
       "      <td>2006-11-13</td>\n",
       "      <td>3813.0</td>\n",
       "      <td>3813.0</td>\n",
       "      <td>VERTICAL</td>\n",
       "      <td>DISPONIBLE</td>\n",
       "      <td>POINT (-95.25364 19.02183)</td>\n",
       "      <td>-95.253636</td>\n",
       "      <td>19.021830</td>\n",
       "      <td>126</td>\n",
       "    </tr>\n",
       "  </tbody>\n",
       "</table>\n",
       "</div>"
      ],
      "text/plain": [
       "         pozo   campo              entidad        ubicacion clasificacion  \\\n",
       "0    LAKACH-2  LAKACH  AGUAS TERRITORIALES  AGUAS PROFUNDAS    DESARROLLO   \n",
       "1   LAKACH-52  LAKACH  AGUAS TERRITORIALES  AGUAS PROFUNDAS    DESARROLLO   \n",
       "2  LAKACH-114  LAKACH  AGUAS TERRITORIALES  AGUAS PROFUNDAS    DESARROLLO   \n",
       "3   LAKACH-32  LAKACH  AGUAS TERRITORIALES  AGUAS PROFUNDAS    DESARROLLO   \n",
       "4    LAKACH-1  LAKACH  AGUAS TERRITORIALES  AGUAS PROFUNDAS  EXPLORATORIO   \n",
       "\n",
       "             estatus    tipo_hcs fecha_inicio  fecha_fin  profundidadD  \\\n",
       "0  ABANDONO TEMPORAL         GAS   2013-10-20 2014-03-24        3265.0   \n",
       "1  ABANDONO TEMPORAL  GAS HUMEDO   2014-08-26 2014-11-16        4535.0   \n",
       "2  ABANDONO TEMPORAL  GAS HUMEDO   2014-12-06 2015-02-23        3820.0   \n",
       "3  ABANDONO TEMPORAL  GAS HUMEDO   2014-06-18 2014-11-21        3293.0   \n",
       "4  ABANDONO TEMPORAL    GAS SECO   2006-07-10 2006-11-13        3813.0   \n",
       "\n",
       "   profundidadV  trayectoria  disponible                    geometry  \\\n",
       "0        3265.0     VERTICAL  DISPONIBLE  POINT (-95.25447 19.02749)   \n",
       "1        3243.0  DIRECCIONAL  DISPONIBLE  POINT (-95.27882 19.04477)   \n",
       "2        3249.0  DIRECCIONAL  DISPONIBLE  POINT (-95.27183 19.07247)   \n",
       "3        3293.0     VERTICAL  DISPONIBLE   POINT (-95.26623 19.0539)   \n",
       "4        3813.0     VERTICAL  DISPONIBLE  POINT (-95.25364 19.02183)   \n",
       "\n",
       "         lon        lat  tiempo_operacion  \n",
       "0 -95.254471  19.027488               155  \n",
       "1 -95.278819  19.044774                82  \n",
       "2 -95.271832  19.072467                79  \n",
       "3 -95.266226  19.053898               156  \n",
       "4 -95.253636  19.021830               126  "
      ]
     },
     "execution_count": 70,
     "metadata": {},
     "output_type": "execute_result"
    }
   ],
   "source": [
    "today = datetime.today()\n",
    "df[\"fecha_inicio\"] = dates_init\n",
    "df[\"fecha_fin\"] = dates_end\n",
    "df[\"tiempo_operacion\"] = df.fecha_fin - df.fecha_inicio\n",
    "df[\"tiempo_operacion\"] = df.tiempo_operacion.dt.days\n",
    "# df[\"edad\"] = round((today - df.fecha_fin) / np.timedelta64(1, 'Y'), 2)\n",
    "\n",
    "df.head()"
   ]
  },
  {
   "cell_type": "code",
   "execution_count": 71,
   "id": "aadac893",
   "metadata": {},
   "outputs": [
    {
     "name": "stdout",
     "output_type": "stream",
     "text": [
      "Error sending data to SQL: Table 'mx_wells_coordinates' already exists.\n"
     ]
    }
   ],
   "source": [
    "# Send data to mysql database\n",
    "table_name='mx_wells_coordinates'\n",
    "\n",
    "send_sql_data(\n",
    "    db_connection, \n",
    "    df, \n",
    "    table_name\n",
    ")"
   ]
  },
  {
   "cell_type": "code",
   "execution_count": 72,
   "id": "cd94f797-aa73-4f77-80ca-47efbc90d6d2",
   "metadata": {},
   "outputs": [
    {
     "ename": "FileNotFoundError",
     "evalue": "[Errno 2] No such file or directory: './data/PRODUCCION_POZOS.zip'",
     "output_type": "error",
     "traceback": [
      "\u001b[1;31m---------------------------------------------------------------------------\u001b[0m",
      "\u001b[1;31mFileNotFoundError\u001b[0m                         Traceback (most recent call last)",
      "Cell \u001b[1;32mIn[72], line 1\u001b[0m\n\u001b[1;32m----> 1\u001b[0m \u001b[43mdownload_production_rates\u001b[49m\u001b[43m(\u001b[49m\u001b[43m)\u001b[49m\n",
      "File \u001b[1;32m~\\Desktop\\EliasCA\\DataScience\\Proyecto personal\\DataLearning\\intel\\Mexican_BI\\web_scraping.py:99\u001b[0m, in \u001b[0;36mdownload_production_rates\u001b[1;34m(url_file, filepath)\u001b[0m\n\u001b[0;32m     97\u001b[0m file_response \u001b[38;5;241m=\u001b[39m requests\u001b[38;5;241m.\u001b[39mget(url_file)\n\u001b[0;32m     98\u001b[0m \u001b[38;5;66;03m# Save the downloaded file\u001b[39;00m\n\u001b[1;32m---> 99\u001b[0m \u001b[38;5;28;01mwith\u001b[39;00m \u001b[38;5;28;43mopen\u001b[39;49m\u001b[43m(\u001b[49m\u001b[43mfilepath\u001b[49m\u001b[43m,\u001b[49m\u001b[43m \u001b[49m\u001b[38;5;124;43m'\u001b[39;49m\u001b[38;5;124;43mwb\u001b[39;49m\u001b[38;5;124;43m'\u001b[39;49m\u001b[43m)\u001b[49m \u001b[38;5;28;01mas\u001b[39;00m file:\n\u001b[0;32m    100\u001b[0m     file\u001b[38;5;241m.\u001b[39mwrite(file_response\u001b[38;5;241m.\u001b[39mcontent)\n\u001b[0;32m    102\u001b[0m \u001b[38;5;28mprint\u001b[39m(\u001b[38;5;124mf\u001b[39m\u001b[38;5;124m\"\u001b[39m\u001b[38;5;124mDownload at...\u001b[39m\u001b[38;5;132;01m{\u001b[39;00mget_time()\u001b[38;5;132;01m}\u001b[39;00m\u001b[38;5;124m\"\u001b[39m)\n",
      "\u001b[1;31mFileNotFoundError\u001b[0m: [Errno 2] No such file or directory: './data/PRODUCCION_POZOS.zip'"
     ]
    }
   ],
   "source": [
    "download_production_rates()"
   ]
  },
  {
   "cell_type": "code",
   "execution_count": 79,
   "id": "8c9b6117-1157-4cd8-82c6-fa644f509f3b",
   "metadata": {},
   "outputs": [
    {
     "data": {
      "text/html": [
       "<div>\n",
       "<style scoped>\n",
       "    .dataframe tbody tr th:only-of-type {\n",
       "        vertical-align: middle;\n",
       "    }\n",
       "\n",
       "    .dataframe tbody tr th {\n",
       "        vertical-align: top;\n",
       "    }\n",
       "\n",
       "    .dataframe thead th {\n",
       "        text-align: right;\n",
       "    }\n",
       "</style>\n",
       "<table border=\"1\" class=\"dataframe\">\n",
       "  <thead>\n",
       "    <tr style=\"text-align: right;\">\n",
       "      <th></th>\n",
       "      <th>Fecha</th>\n",
       "      <th>Cuenca</th>\n",
       "      <th>Asignación_o_Contrato</th>\n",
       "      <th>Nombre_del_pozo</th>\n",
       "      <th>Hidrocarburos_Liquidos_(Mbd)</th>\n",
       "      <th>Petróleo_(Mbd)</th>\n",
       "      <th>Condensado_(Mbd)</th>\n",
       "      <th>Gas_asociado_(MMpcd)</th>\n",
       "      <th>Gas_no_asociado_(MMpcd)</th>\n",
       "      <th>Agua_(Mbd)</th>\n",
       "    </tr>\n",
       "  </thead>\n",
       "  <tbody>\n",
       "    <tr>\n",
       "      <th>0</th>\n",
       "      <td>01-06-1930</td>\n",
       "      <td>TAMPICO-MISANTLA</td>\n",
       "      <td>NaN</td>\n",
       "      <td>POZA RICA-2</td>\n",
       "      <td>0.009015</td>\n",
       "      <td>0.009015</td>\n",
       "      <td>0.0</td>\n",
       "      <td>0.004180</td>\n",
       "      <td>0.0</td>\n",
       "      <td>0.0</td>\n",
       "    </tr>\n",
       "    <tr>\n",
       "      <th>1</th>\n",
       "      <td>01-07-1930</td>\n",
       "      <td>TAMPICO-MISANTLA</td>\n",
       "      <td>NaN</td>\n",
       "      <td>POZA RICA-2</td>\n",
       "      <td>0.020695</td>\n",
       "      <td>0.020695</td>\n",
       "      <td>0.0</td>\n",
       "      <td>0.009594</td>\n",
       "      <td>0.0</td>\n",
       "      <td>0.0</td>\n",
       "    </tr>\n",
       "    <tr>\n",
       "      <th>2</th>\n",
       "      <td>01-08-1930</td>\n",
       "      <td>TAMPICO-MISANTLA</td>\n",
       "      <td>NaN</td>\n",
       "      <td>POZA RICA-2</td>\n",
       "      <td>0.020695</td>\n",
       "      <td>0.020695</td>\n",
       "      <td>0.0</td>\n",
       "      <td>0.009594</td>\n",
       "      <td>0.0</td>\n",
       "      <td>0.0</td>\n",
       "    </tr>\n",
       "    <tr>\n",
       "      <th>3</th>\n",
       "      <td>01-09-1930</td>\n",
       "      <td>TAMPICO-MISANTLA</td>\n",
       "      <td>NaN</td>\n",
       "      <td>POZA RICA-2</td>\n",
       "      <td>0.020756</td>\n",
       "      <td>0.020756</td>\n",
       "      <td>0.0</td>\n",
       "      <td>0.009622</td>\n",
       "      <td>0.0</td>\n",
       "      <td>0.0</td>\n",
       "    </tr>\n",
       "    <tr>\n",
       "      <th>4</th>\n",
       "      <td>01-10-1930</td>\n",
       "      <td>TAMPICO-MISANTLA</td>\n",
       "      <td>NaN</td>\n",
       "      <td>POZA RICA-2</td>\n",
       "      <td>0.020695</td>\n",
       "      <td>0.020695</td>\n",
       "      <td>0.0</td>\n",
       "      <td>0.009594</td>\n",
       "      <td>0.0</td>\n",
       "      <td>0.0</td>\n",
       "    </tr>\n",
       "  </tbody>\n",
       "</table>\n",
       "</div>"
      ],
      "text/plain": [
       "        Fecha            Cuenca Asignación_o_Contrato Nombre_del_pozo  \\\n",
       "0  01-06-1930  TAMPICO-MISANTLA                   NaN     POZA RICA-2   \n",
       "1  01-07-1930  TAMPICO-MISANTLA                   NaN     POZA RICA-2   \n",
       "2  01-08-1930  TAMPICO-MISANTLA                   NaN     POZA RICA-2   \n",
       "3  01-09-1930  TAMPICO-MISANTLA                   NaN     POZA RICA-2   \n",
       "4  01-10-1930  TAMPICO-MISANTLA                   NaN     POZA RICA-2   \n",
       "\n",
       "   Hidrocarburos_Liquidos_(Mbd)  Petróleo_(Mbd)  Condensado_(Mbd)  \\\n",
       "0                      0.009015        0.009015               0.0   \n",
       "1                      0.020695        0.020695               0.0   \n",
       "2                      0.020695        0.020695               0.0   \n",
       "3                      0.020756        0.020756               0.0   \n",
       "4                      0.020695        0.020695               0.0   \n",
       "\n",
       "   Gas_asociado_(MMpcd)  Gas_no_asociado_(MMpcd)  Agua_(Mbd)  \n",
       "0              0.004180                      0.0         0.0  \n",
       "1              0.009594                      0.0         0.0  \n",
       "2              0.009594                      0.0         0.0  \n",
       "3              0.009622                      0.0         0.0  \n",
       "4              0.009594                      0.0         0.0  "
      ]
     },
     "execution_count": 79,
     "metadata": {},
     "output_type": "execute_result"
    }
   ],
   "source": [
    "historico_produccion = zip_2_df()\n",
    "historico_produccion.head()"
   ]
  },
  {
   "cell_type": "code",
   "execution_count": 80,
   "id": "df76ef4f",
   "metadata": {},
   "outputs": [
    {
     "data": {
      "text/html": [
       "<div>\n",
       "<style scoped>\n",
       "    .dataframe tbody tr th:only-of-type {\n",
       "        vertical-align: middle;\n",
       "    }\n",
       "\n",
       "    .dataframe tbody tr th {\n",
       "        vertical-align: top;\n",
       "    }\n",
       "\n",
       "    .dataframe thead th {\n",
       "        text-align: right;\n",
       "    }\n",
       "</style>\n",
       "<table border=\"1\" class=\"dataframe\">\n",
       "  <thead>\n",
       "    <tr style=\"text-align: right;\">\n",
       "      <th></th>\n",
       "      <th>Fecha</th>\n",
       "      <th>Cuenca</th>\n",
       "      <th>Asignación_o_Contrato</th>\n",
       "      <th>Nombre_del_pozo</th>\n",
       "      <th>Hidrocarburos_Liquidos_(Mbd)</th>\n",
       "      <th>Petróleo_(Mbd)</th>\n",
       "      <th>Condensado_(Mbd)</th>\n",
       "      <th>Gas_asociado_(MMpcd)</th>\n",
       "      <th>Gas_no_asociado_(MMpcd)</th>\n",
       "      <th>Agua_(Mbd)</th>\n",
       "    </tr>\n",
       "  </thead>\n",
       "  <tbody>\n",
       "    <tr>\n",
       "      <th>3159141</th>\n",
       "      <td>01-07-2023</td>\n",
       "      <td>BURGOS</td>\n",
       "      <td>CNH-R01-L03-A18/2015</td>\n",
       "      <td>PENA BLANCA-134</td>\n",
       "      <td>0.000000</td>\n",
       "      <td>0.000000</td>\n",
       "      <td>0.0</td>\n",
       "      <td>0.000000</td>\n",
       "      <td>0.095875</td>\n",
       "      <td>0.000250</td>\n",
       "    </tr>\n",
       "    <tr>\n",
       "      <th>3159142</th>\n",
       "      <td>01-07-2023</td>\n",
       "      <td>BURGOS</td>\n",
       "      <td>CNH-R01-L03-A18/2015</td>\n",
       "      <td>PENA BLANCA-101</td>\n",
       "      <td>0.000000</td>\n",
       "      <td>0.000000</td>\n",
       "      <td>0.0</td>\n",
       "      <td>0.000000</td>\n",
       "      <td>0.038797</td>\n",
       "      <td>0.000102</td>\n",
       "    </tr>\n",
       "    <tr>\n",
       "      <th>3159143</th>\n",
       "      <td>01-07-2023</td>\n",
       "      <td>BURGOS</td>\n",
       "      <td>CNH-R01-L03-A12/2015</td>\n",
       "      <td>MAREOGRAFO-200DES</td>\n",
       "      <td>0.000000</td>\n",
       "      <td>0.000000</td>\n",
       "      <td>0.0</td>\n",
       "      <td>0.000000</td>\n",
       "      <td>0.072008</td>\n",
       "      <td>0.000000</td>\n",
       "    </tr>\n",
       "    <tr>\n",
       "      <th>3159144</th>\n",
       "      <td>01-07-2023</td>\n",
       "      <td>BURGOS</td>\n",
       "      <td>CNH-R01-L03-A18/2015</td>\n",
       "      <td>PENA BLANCA-150</td>\n",
       "      <td>0.000000</td>\n",
       "      <td>0.000000</td>\n",
       "      <td>0.0</td>\n",
       "      <td>0.000000</td>\n",
       "      <td>0.096173</td>\n",
       "      <td>0.000693</td>\n",
       "    </tr>\n",
       "    <tr>\n",
       "      <th>3159145</th>\n",
       "      <td>01-07-2023</td>\n",
       "      <td>VERACRUZ</td>\n",
       "      <td>CNH-R02-L03-VC-01/2018</td>\n",
       "      <td>TRES HIGUERAS-3</td>\n",
       "      <td>0.011574</td>\n",
       "      <td>0.011574</td>\n",
       "      <td>0.0</td>\n",
       "      <td>0.002128</td>\n",
       "      <td>0.000000</td>\n",
       "      <td>0.017419</td>\n",
       "    </tr>\n",
       "  </tbody>\n",
       "</table>\n",
       "</div>"
      ],
      "text/plain": [
       "              Fecha    Cuenca   Asignación_o_Contrato    Nombre_del_pozo  \\\n",
       "3159141  01-07-2023    BURGOS    CNH-R01-L03-A18/2015    PENA BLANCA-134   \n",
       "3159142  01-07-2023    BURGOS    CNH-R01-L03-A18/2015    PENA BLANCA-101   \n",
       "3159143  01-07-2023    BURGOS    CNH-R01-L03-A12/2015  MAREOGRAFO-200DES   \n",
       "3159144  01-07-2023    BURGOS    CNH-R01-L03-A18/2015    PENA BLANCA-150   \n",
       "3159145  01-07-2023  VERACRUZ  CNH-R02-L03-VC-01/2018    TRES HIGUERAS-3   \n",
       "\n",
       "         Hidrocarburos_Liquidos_(Mbd)  Petróleo_(Mbd)  Condensado_(Mbd)  \\\n",
       "3159141                      0.000000        0.000000               0.0   \n",
       "3159142                      0.000000        0.000000               0.0   \n",
       "3159143                      0.000000        0.000000               0.0   \n",
       "3159144                      0.000000        0.000000               0.0   \n",
       "3159145                      0.011574        0.011574               0.0   \n",
       "\n",
       "         Gas_asociado_(MMpcd)  Gas_no_asociado_(MMpcd)  Agua_(Mbd)  \n",
       "3159141              0.000000                 0.095875    0.000250  \n",
       "3159142              0.000000                 0.038797    0.000102  \n",
       "3159143              0.000000                 0.072008    0.000000  \n",
       "3159144              0.000000                 0.096173    0.000693  \n",
       "3159145              0.002128                 0.000000    0.017419  "
      ]
     },
     "execution_count": 80,
     "metadata": {},
     "output_type": "execute_result"
    }
   ],
   "source": [
    "historico_produccion.tail()"
   ]
  },
  {
   "cell_type": "code",
   "execution_count": 81,
   "id": "f1916345",
   "metadata": {},
   "outputs": [
    {
     "data": {
      "text/plain": [
       "Index(['Fecha', 'Cuenca', 'Asignación_o_Contrato', 'Nombre_del_pozo',\n",
       "       'Hidrocarburos_Liquidos_(Mbd)', 'Petróleo_(Mbd)', 'Condensado_(Mbd)',\n",
       "       'Gas_asociado_(MMpcd)', 'Gas_no_asociado_(MMpcd)', 'Agua_(Mbd)'],\n",
       "      dtype='object')"
      ]
     },
     "execution_count": 81,
     "metadata": {},
     "output_type": "execute_result"
    }
   ],
   "source": [
    "historico_produccion.columns"
   ]
  },
  {
   "cell_type": "code",
   "execution_count": 82,
   "id": "8a1ba56f",
   "metadata": {},
   "outputs": [],
   "source": [
    "historico_produccion.rename(\n",
    "    columns=\n",
    "    {\n",
    "       \"Asignación_o_Contrato\": \"Contrato\",\n",
    "       \"Nombre_del_pozo\": \"Pozo\",\n",
    "       \"Hidrocarburos_Liquidos_(Mbd)\": \"Hcs_liq_Mbd\",\n",
    "       \"Petróleo_(Mbd)\": \"Aceite_Mbd\",\n",
    "       \"Condensado_(Mbd)\": \"Condensado_Mbd\",\n",
    "       \"Gas_asociado_(MMpcd)\": \"Gas_asociado_MMpcd\",\n",
    "       \"Gas_no_asociado_(MMpcd)\": \"Gas_no_asociado_MMpcd\",\n",
    "       \"Agua_(Mbd)\": \"Agua_Mbd\"\n",
    "   },\n",
    "   inplace=True\n",
    ")"
   ]
  },
  {
   "cell_type": "code",
   "execution_count": 83,
   "id": "a6bc4761",
   "metadata": {},
   "outputs": [
    {
     "name": "stdout",
     "output_type": "stream",
     "text": [
      "<class 'pandas.core.frame.DataFrame'>\n",
      "RangeIndex: 3159146 entries, 0 to 3159145\n",
      "Data columns (total 10 columns):\n",
      " #   Column                 Dtype  \n",
      "---  ------                 -----  \n",
      " 0   Fecha                  object \n",
      " 1   Cuenca                 object \n",
      " 2   Contrato               object \n",
      " 3   Pozo                   object \n",
      " 4   Hcs_liq_Mbd            float64\n",
      " 5   Aceite_Mbd             float64\n",
      " 6   Condensado_Mbd         float64\n",
      " 7   Gas_asociado_MMpcd     float64\n",
      " 8   Gas_no_asociado_MMpcd  float64\n",
      " 9   Agua_Mbd               float64\n",
      "dtypes: float64(6), object(4)\n",
      "memory usage: 241.0+ MB\n"
     ]
    }
   ],
   "source": [
    "historico_produccion.info()"
   ]
  },
  {
   "cell_type": "code",
   "execution_count": 84,
   "id": "3e8f9b80",
   "metadata": {},
   "outputs": [],
   "source": [
    "historico_produccion[\"Fecha\"] = pd.to_datetime(historico_produccion[\"Fecha\"], format=\"%d-%m-%Y\")"
   ]
  },
  {
   "cell_type": "code",
   "execution_count": 86,
   "id": "8b40d87a",
   "metadata": {},
   "outputs": [
    {
     "name": "stdout",
     "output_type": "stream",
     "text": [
      "Data send succesfully!\n"
     ]
    }
   ],
   "source": [
    "# Send data to mysql database\n",
    "table_name='produccion_nacional_cnh'\n",
    "\n",
    "send_sql_data(\n",
    "    db_connection, \n",
    "    historico_produccion, \n",
    "    table_name\n",
    ")"
   ]
  },
  {
   "cell_type": "code",
   "execution_count": 87,
   "id": "fd73158e",
   "metadata": {},
   "outputs": [
    {
     "data": {
      "text/plain": [
       "Index(['nombre', 'superficie', 'ubicacin', 'volumen_or', 'volumen__1',\n",
       "       'petrleo_cr', 'crudo_1p_m', 'gas_natura', 'condensado', 'volumen__2',\n",
       "       'volumen__3', 'petrleo__1', 'crudo_2p_m', 'gas_natu_1', 'condensa_1',\n",
       "       'volumen__4', 'volumen__5', 'petrleo__2', 'crudo_3p_m', 'gas_natu_2',\n",
       "       'condensa_2', 'geometry'],\n",
       "      dtype='object')"
      ]
     },
     "execution_count": 87,
     "metadata": {},
     "output_type": "execute_result"
    }
   ],
   "source": [
    "campo_df.columns"
   ]
  },
  {
   "cell_type": "code",
   "execution_count": 88,
   "id": "d9530a34",
   "metadata": {},
   "outputs": [],
   "source": [
    "# Renombrando columnas\n",
    "campo_df = campo_df.rename(\n",
    "    columns={ \n",
    "        'ubicacin':'ubicacion', \n",
    "        'volumen_or':'v_original', \n",
    "        'volumen__1':'v_1', \n",
    "        'petrleo_cr':'petroleo_cr', \n",
    "        'crudo_1p_m':'crudo_1p', \n",
    "        'gas_natura':'gas_natural',\n",
    "        'volumen__2':'v_2',\n",
    "        'volumen__3':'v_3',\n",
    "        'petrleo__1':'petroleo_1',\n",
    "        'crudo_2p_m':'crudo_2p',\n",
    "        'gas_natu_1':'gas_natural_1',\n",
    "        'condensa_1':'condensado_1',\n",
    "        'volumen__4':'v_4',\n",
    "        'volumen__5':'v_5',\n",
    "        'petrleo__2':'petroleo_2',\n",
    "        'crudo_3p_m':'crudo_3p',\n",
    "        'gas_natu_2':'gas_natural_2',\n",
    "        'condensa_2':'condensado_2'\n",
    "    }\n",
    ")"
   ]
  },
  {
   "cell_type": "code",
   "execution_count": 89,
   "id": "bafb773a",
   "metadata": {},
   "outputs": [
    {
     "data": {
      "text/html": [
       "<div>\n",
       "<style scoped>\n",
       "    .dataframe tbody tr th:only-of-type {\n",
       "        vertical-align: middle;\n",
       "    }\n",
       "\n",
       "    .dataframe tbody tr th {\n",
       "        vertical-align: top;\n",
       "    }\n",
       "\n",
       "    .dataframe thead th {\n",
       "        text-align: right;\n",
       "    }\n",
       "</style>\n",
       "<table border=\"1\" class=\"dataframe\">\n",
       "  <thead>\n",
       "    <tr style=\"text-align: right;\">\n",
       "      <th></th>\n",
       "      <th>nombre</th>\n",
       "      <th>superficie</th>\n",
       "      <th>ubicacion</th>\n",
       "      <th>v_original</th>\n",
       "      <th>v_1</th>\n",
       "      <th>petroleo_cr</th>\n",
       "      <th>crudo_1p</th>\n",
       "      <th>gas_natural</th>\n",
       "      <th>condensado</th>\n",
       "      <th>v_2</th>\n",
       "      <th>...</th>\n",
       "      <th>crudo_2p</th>\n",
       "      <th>gas_natural_1</th>\n",
       "      <th>condensado_1</th>\n",
       "      <th>v_4</th>\n",
       "      <th>v_5</th>\n",
       "      <th>petroleo_2</th>\n",
       "      <th>crudo_3p</th>\n",
       "      <th>gas_natural_2</th>\n",
       "      <th>condensado_2</th>\n",
       "      <th>geometry</th>\n",
       "    </tr>\n",
       "  </thead>\n",
       "  <tbody>\n",
       "    <tr>\n",
       "      <th>0</th>\n",
       "      <td>RABEL</td>\n",
       "      <td>4.42</td>\n",
       "      <td>Terrestre</td>\n",
       "      <td>0</td>\n",
       "      <td>63.99</td>\n",
       "      <td>0.03</td>\n",
       "      <td>0</td>\n",
       "      <td>0.16</td>\n",
       "      <td>0</td>\n",
       "      <td>0</td>\n",
       "      <td>...</td>\n",
       "      <td>0</td>\n",
       "      <td>0.16</td>\n",
       "      <td>0</td>\n",
       "      <td>0</td>\n",
       "      <td>63.99</td>\n",
       "      <td>0.03</td>\n",
       "      <td>0</td>\n",
       "      <td>0.16</td>\n",
       "      <td>0</td>\n",
       "      <td>POLYGON ((-95.59913 18.18974, -95.59903 18.189...</td>\n",
       "    </tr>\n",
       "    <tr>\n",
       "      <th>1</th>\n",
       "      <td>QUINTAL</td>\n",
       "      <td>0.58</td>\n",
       "      <td>Terrestre</td>\n",
       "      <td>0</td>\n",
       "      <td>2.4</td>\n",
       "      <td>0</td>\n",
       "      <td>0</td>\n",
       "      <td>0</td>\n",
       "      <td>0</td>\n",
       "      <td>0</td>\n",
       "      <td>...</td>\n",
       "      <td>0</td>\n",
       "      <td>0.7</td>\n",
       "      <td>0.04</td>\n",
       "      <td>0</td>\n",
       "      <td>2.86</td>\n",
       "      <td>0.23</td>\n",
       "      <td>0</td>\n",
       "      <td>1.2</td>\n",
       "      <td>0.06</td>\n",
       "      <td>POLYGON ((-98.82421 25.97715, -98.82607 25.977...</td>\n",
       "    </tr>\n",
       "    <tr>\n",
       "      <th>2</th>\n",
       "      <td>ROBULUS</td>\n",
       "      <td>9.79</td>\n",
       "      <td>Terrestre</td>\n",
       "      <td>0</td>\n",
       "      <td>9.76</td>\n",
       "      <td>0</td>\n",
       "      <td>0</td>\n",
       "      <td>0</td>\n",
       "      <td>0</td>\n",
       "      <td>0</td>\n",
       "      <td>...</td>\n",
       "      <td>0</td>\n",
       "      <td>1.16</td>\n",
       "      <td>0</td>\n",
       "      <td>0</td>\n",
       "      <td>26.89</td>\n",
       "      <td>1.61</td>\n",
       "      <td>0</td>\n",
       "      <td>9.42</td>\n",
       "      <td>0.01</td>\n",
       "      <td>POLYGON ((-99.64649 27.54527, -99.64727 27.545...</td>\n",
       "    </tr>\n",
       "    <tr>\n",
       "      <th>3</th>\n",
       "      <td>ROTALIA</td>\n",
       "      <td>3.85</td>\n",
       "      <td>Terrestre</td>\n",
       "      <td>0</td>\n",
       "      <td>7.66</td>\n",
       "      <td>0</td>\n",
       "      <td>0</td>\n",
       "      <td>0</td>\n",
       "      <td>0</td>\n",
       "      <td>0</td>\n",
       "      <td>...</td>\n",
       "      <td>0</td>\n",
       "      <td>4.5</td>\n",
       "      <td>0</td>\n",
       "      <td>0</td>\n",
       "      <td>18.07</td>\n",
       "      <td>0.85</td>\n",
       "      <td>0</td>\n",
       "      <td>4.5</td>\n",
       "      <td>0</td>\n",
       "      <td>POLYGON ((-99.58689 27.51364, -99.58764 27.513...</td>\n",
       "    </tr>\n",
       "    <tr>\n",
       "      <th>4</th>\n",
       "      <td>SANTANDER</td>\n",
       "      <td>0.61</td>\n",
       "      <td>Terrestre</td>\n",
       "      <td>0</td>\n",
       "      <td>401.11</td>\n",
       "      <td>1.03</td>\n",
       "      <td>0</td>\n",
       "      <td>8.57</td>\n",
       "      <td>0.05</td>\n",
       "      <td>0</td>\n",
       "      <td>...</td>\n",
       "      <td>0</td>\n",
       "      <td>20.97</td>\n",
       "      <td>0.12</td>\n",
       "      <td>0</td>\n",
       "      <td>428.31</td>\n",
       "      <td>3.53</td>\n",
       "      <td>0</td>\n",
       "      <td>29.49</td>\n",
       "      <td>0.17</td>\n",
       "      <td>POLYGON ((-98.44799 25.83889, -98.44945 25.838...</td>\n",
       "    </tr>\n",
       "  </tbody>\n",
       "</table>\n",
       "<p>5 rows × 22 columns</p>\n",
       "</div>"
      ],
      "text/plain": [
       "      nombre superficie  ubicacion v_original     v_1 petroleo_cr crudo_1p  \\\n",
       "0      RABEL       4.42  Terrestre          0   63.99        0.03        0   \n",
       "1    QUINTAL       0.58  Terrestre          0     2.4           0        0   \n",
       "2    ROBULUS       9.79  Terrestre          0    9.76           0        0   \n",
       "3    ROTALIA       3.85  Terrestre          0    7.66           0        0   \n",
       "4  SANTANDER       0.61  Terrestre          0  401.11        1.03        0   \n",
       "\n",
       "  gas_natural condensado v_2  ... crudo_2p gas_natural_1 condensado_1 v_4  \\\n",
       "0        0.16          0   0  ...        0          0.16            0   0   \n",
       "1           0          0   0  ...        0           0.7         0.04   0   \n",
       "2           0          0   0  ...        0          1.16            0   0   \n",
       "3           0          0   0  ...        0           4.5            0   0   \n",
       "4        8.57       0.05   0  ...        0         20.97         0.12   0   \n",
       "\n",
       "      v_5 petroleo_2 crudo_3p gas_natural_2 condensado_2  \\\n",
       "0   63.99       0.03        0          0.16            0   \n",
       "1    2.86       0.23        0           1.2         0.06   \n",
       "2   26.89       1.61        0          9.42         0.01   \n",
       "3   18.07       0.85        0           4.5            0   \n",
       "4  428.31       3.53        0         29.49         0.17   \n",
       "\n",
       "                                            geometry  \n",
       "0  POLYGON ((-95.59913 18.18974, -95.59903 18.189...  \n",
       "1  POLYGON ((-98.82421 25.97715, -98.82607 25.977...  \n",
       "2  POLYGON ((-99.64649 27.54527, -99.64727 27.545...  \n",
       "3  POLYGON ((-99.58689 27.51364, -99.58764 27.513...  \n",
       "4  POLYGON ((-98.44799 25.83889, -98.44945 25.838...  \n",
       "\n",
       "[5 rows x 22 columns]"
      ]
     },
     "execution_count": 89,
     "metadata": {},
     "output_type": "execute_result"
    }
   ],
   "source": [
    "campo_df.head()"
   ]
  },
  {
   "cell_type": "code",
   "execution_count": 90,
   "id": "8a380afc",
   "metadata": {},
   "outputs": [
    {
     "data": {
      "text/html": [
       "<div>\n",
       "<style scoped>\n",
       "    .dataframe tbody tr th:only-of-type {\n",
       "        vertical-align: middle;\n",
       "    }\n",
       "\n",
       "    .dataframe tbody tr th {\n",
       "        vertical-align: top;\n",
       "    }\n",
       "\n",
       "    .dataframe thead th {\n",
       "        text-align: right;\n",
       "    }\n",
       "</style>\n",
       "<table border=\"1\" class=\"dataframe\">\n",
       "  <thead>\n",
       "    <tr style=\"text-align: right;\">\n",
       "      <th></th>\n",
       "      <th>nombre</th>\n",
       "      <th>superficie</th>\n",
       "      <th>ubicacion</th>\n",
       "      <th>v_original</th>\n",
       "      <th>v_1</th>\n",
       "      <th>petroleo_cr</th>\n",
       "      <th>crudo_1p</th>\n",
       "      <th>gas_natural</th>\n",
       "      <th>condensado</th>\n",
       "      <th>v_2</th>\n",
       "      <th>...</th>\n",
       "      <th>crudo_2p</th>\n",
       "      <th>gas_natural_1</th>\n",
       "      <th>condensado_1</th>\n",
       "      <th>v_4</th>\n",
       "      <th>v_5</th>\n",
       "      <th>petroleo_2</th>\n",
       "      <th>crudo_3p</th>\n",
       "      <th>gas_natural_2</th>\n",
       "      <th>condensado_2</th>\n",
       "      <th>geometry</th>\n",
       "    </tr>\n",
       "  </thead>\n",
       "  <tbody>\n",
       "    <tr>\n",
       "      <th>458</th>\n",
       "      <td>ITTA</td>\n",
       "      <td>5.22</td>\n",
       "      <td>Marino</td>\n",
       "      <td>79.81</td>\n",
       "      <td>54.09</td>\n",
       "      <td>7.44</td>\n",
       "      <td>6.89</td>\n",
       "      <td>4.61</td>\n",
       "      <td>0</td>\n",
       "      <td>147.34</td>\n",
       "      <td>...</td>\n",
       "      <td>27.64</td>\n",
       "      <td>25.34</td>\n",
       "      <td>0</td>\n",
       "      <td>149.32</td>\n",
       "      <td>101.2</td>\n",
       "      <td>54.5</td>\n",
       "      <td>48.66</td>\n",
       "      <td>48.29</td>\n",
       "      <td>0</td>\n",
       "      <td>MULTIPOLYGON (((-93.29363 18.63426, -93.29332 ...</td>\n",
       "    </tr>\n",
       "    <tr>\n",
       "      <th>459</th>\n",
       "      <td>PAKI</td>\n",
       "      <td>5.79</td>\n",
       "      <td>Marino</td>\n",
       "      <td>25.71</td>\n",
       "      <td>21.39</td>\n",
       "      <td>4.98</td>\n",
       "      <td>4.69</td>\n",
       "      <td>2.32</td>\n",
       "      <td>0.01</td>\n",
       "      <td>47.58</td>\n",
       "      <td>...</td>\n",
       "      <td>8.89</td>\n",
       "      <td>27.94</td>\n",
       "      <td>0.13</td>\n",
       "      <td>47.58</td>\n",
       "      <td>39.59</td>\n",
       "      <td>12.33</td>\n",
       "      <td>8.89</td>\n",
       "      <td>27.94</td>\n",
       "      <td>0.13</td>\n",
       "      <td>POLYGON ((-93.54505 18.45738, -93.54494 18.457...</td>\n",
       "    </tr>\n",
       "    <tr>\n",
       "      <th>460</th>\n",
       "      <td>TLAMATINI</td>\n",
       "      <td>5.71</td>\n",
       "      <td>Marino</td>\n",
       "      <td>143.19</td>\n",
       "      <td>87.88</td>\n",
       "      <td>26.58</td>\n",
       "      <td>24.27</td>\n",
       "      <td>18.59</td>\n",
       "      <td>0.08</td>\n",
       "      <td>143.19</td>\n",
       "      <td>...</td>\n",
       "      <td>24.27</td>\n",
       "      <td>18.59</td>\n",
       "      <td>0.08</td>\n",
       "      <td>163.28</td>\n",
       "      <td>100.21</td>\n",
       "      <td>48.77</td>\n",
       "      <td>44.53</td>\n",
       "      <td>34.08</td>\n",
       "      <td>0.15</td>\n",
       "      <td>POLYGON ((-93.50413 18.47118, -93.50412 18.471...</td>\n",
       "    </tr>\n",
       "    <tr>\n",
       "      <th>461</th>\n",
       "      <td>LAKACH</td>\n",
       "      <td>20.6025</td>\n",
       "      <td>Marino</td>\n",
       "      <td>0</td>\n",
       "      <td>513.08</td>\n",
       "      <td>3.14</td>\n",
       "      <td>0</td>\n",
       "      <td>20.07</td>\n",
       "      <td>0</td>\n",
       "      <td>0</td>\n",
       "      <td>...</td>\n",
       "      <td>0</td>\n",
       "      <td>20.07</td>\n",
       "      <td>0</td>\n",
       "      <td>0</td>\n",
       "      <td>513.08</td>\n",
       "      <td>15.04</td>\n",
       "      <td>0</td>\n",
       "      <td>96.11</td>\n",
       "      <td>0</td>\n",
       "      <td>POLYGON ((-95.27193 19.10660, -95.27178 19.106...</td>\n",
       "    </tr>\n",
       "    <tr>\n",
       "      <th>462</th>\n",
       "      <td>QUESQUI</td>\n",
       "      <td>61.39</td>\n",
       "      <td>Terrestre</td>\n",
       "      <td>682.98</td>\n",
       "      <td>2527.08</td>\n",
       "      <td>500.63</td>\n",
       "      <td>202.55</td>\n",
       "      <td>1435.63</td>\n",
       "      <td>1.96</td>\n",
       "      <td>761.83</td>\n",
       "      <td>...</td>\n",
       "      <td>278.27</td>\n",
       "      <td>2006.64</td>\n",
       "      <td>2.74</td>\n",
       "      <td>839.83</td>\n",
       "      <td>3107.43</td>\n",
       "      <td>766.34</td>\n",
       "      <td>308.47</td>\n",
       "      <td>2205.25</td>\n",
       "      <td>3.01</td>\n",
       "      <td>POLYGON ((-93.63293 17.96916, -93.62614 17.964...</td>\n",
       "    </tr>\n",
       "  </tbody>\n",
       "</table>\n",
       "<p>5 rows × 22 columns</p>\n",
       "</div>"
      ],
      "text/plain": [
       "        nombre superficie  ubicacion v_original      v_1 petroleo_cr crudo_1p  \\\n",
       "458       ITTA       5.22     Marino      79.81    54.09        7.44     6.89   \n",
       "459       PAKI       5.79     Marino      25.71    21.39        4.98     4.69   \n",
       "460  TLAMATINI       5.71     Marino     143.19    87.88       26.58    24.27   \n",
       "461     LAKACH    20.6025     Marino          0   513.08        3.14        0   \n",
       "462    QUESQUI      61.39  Terrestre     682.98  2527.08      500.63   202.55   \n",
       "\n",
       "    gas_natural condensado     v_2  ... crudo_2p gas_natural_1 condensado_1  \\\n",
       "458        4.61          0  147.34  ...    27.64         25.34            0   \n",
       "459        2.32       0.01   47.58  ...     8.89         27.94         0.13   \n",
       "460       18.59       0.08  143.19  ...    24.27         18.59         0.08   \n",
       "461       20.07          0       0  ...        0         20.07            0   \n",
       "462     1435.63       1.96  761.83  ...   278.27       2006.64         2.74   \n",
       "\n",
       "        v_4      v_5 petroleo_2 crudo_3p gas_natural_2 condensado_2  \\\n",
       "458  149.32    101.2       54.5    48.66         48.29            0   \n",
       "459   47.58    39.59      12.33     8.89         27.94         0.13   \n",
       "460  163.28   100.21      48.77    44.53         34.08         0.15   \n",
       "461       0   513.08      15.04        0         96.11            0   \n",
       "462  839.83  3107.43     766.34   308.47       2205.25         3.01   \n",
       "\n",
       "                                              geometry  \n",
       "458  MULTIPOLYGON (((-93.29363 18.63426, -93.29332 ...  \n",
       "459  POLYGON ((-93.54505 18.45738, -93.54494 18.457...  \n",
       "460  POLYGON ((-93.50413 18.47118, -93.50412 18.471...  \n",
       "461  POLYGON ((-95.27193 19.10660, -95.27178 19.106...  \n",
       "462  POLYGON ((-93.63293 17.96916, -93.62614 17.964...  \n",
       "\n",
       "[5 rows x 22 columns]"
      ]
     },
     "execution_count": 90,
     "metadata": {},
     "output_type": "execute_result"
    }
   ],
   "source": [
    "campo_df.tail()"
   ]
  },
  {
   "cell_type": "code",
   "execution_count": 91,
   "id": "e18cc481",
   "metadata": {},
   "outputs": [
    {
     "name": "stdout",
     "output_type": "stream",
     "text": [
      "<class 'geopandas.geodataframe.GeoDataFrame'>\n",
      "RangeIndex: 463 entries, 0 to 462\n",
      "Data columns (total 22 columns):\n",
      " #   Column         Non-Null Count  Dtype   \n",
      "---  ------         --------------  -----   \n",
      " 0   nombre         463 non-null    object  \n",
      " 1   superficie     463 non-null    object  \n",
      " 2   ubicacion      463 non-null    object  \n",
      " 3   v_original     463 non-null    object  \n",
      " 4   v_1            463 non-null    object  \n",
      " 5   petroleo_cr    463 non-null    object  \n",
      " 6   crudo_1p       463 non-null    object  \n",
      " 7   gas_natural    463 non-null    object  \n",
      " 8   condensado     463 non-null    object  \n",
      " 9   v_2            463 non-null    object  \n",
      " 10  v_3            463 non-null    object  \n",
      " 11  petroleo_1     463 non-null    object  \n",
      " 12  crudo_2p       463 non-null    object  \n",
      " 13  gas_natural_1  463 non-null    object  \n",
      " 14  condensado_1   463 non-null    object  \n",
      " 15  v_4            463 non-null    object  \n",
      " 16  v_5            463 non-null    object  \n",
      " 17  petroleo_2     463 non-null    object  \n",
      " 18  crudo_3p       463 non-null    object  \n",
      " 19  gas_natural_2  463 non-null    object  \n",
      " 20  condensado_2   463 non-null    object  \n",
      " 21  geometry       463 non-null    geometry\n",
      "dtypes: geometry(1), object(21)\n",
      "memory usage: 79.7+ KB\n"
     ]
    }
   ],
   "source": [
    "campo_df.info()"
   ]
  },
  {
   "cell_type": "code",
   "execution_count": 92,
   "id": "8f3b5526",
   "metadata": {},
   "outputs": [],
   "source": [
    "campo_df[\"v_original\"] = campo_df[\"v_original\"].astype(float)\n",
    "campo_df[\"v_1\"] = campo_df[\"v_1\"].astype(float)\n",
    "campo_df[\"petroleo_cr\"] = campo_df[\"petroleo_cr\"].astype(float)\n",
    "campo_df[\"crudo_1p\"] = campo_df[\"crudo_1p\"].astype(float)\n",
    "campo_df[\"gas_natural\"] = campo_df[\"gas_natural\"].astype(float)\n",
    "campo_df[\"condensado\"] = campo_df[\"condensado\"].astype(float)\n",
    "campo_df[\"v_2\"] = campo_df[\"v_2\"].astype(float)\n",
    "campo_df[\"v_3\"] = campo_df[\"v_3\"].astype(float)\n",
    "campo_df[\"petroleo_1\"] = campo_df[\"petroleo_1\"].astype(float)"
   ]
  },
  {
   "cell_type": "code",
   "execution_count": 93,
   "id": "867ebd84",
   "metadata": {},
   "outputs": [
    {
     "name": "stdout",
     "output_type": "stream",
     "text": [
      "<class 'geopandas.geodataframe.GeoDataFrame'>\n",
      "RangeIndex: 463 entries, 0 to 462\n",
      "Data columns (total 22 columns):\n",
      " #   Column         Non-Null Count  Dtype   \n",
      "---  ------         --------------  -----   \n",
      " 0   nombre         463 non-null    object  \n",
      " 1   superficie     463 non-null    object  \n",
      " 2   ubicacion      463 non-null    object  \n",
      " 3   v_original     463 non-null    float64 \n",
      " 4   v_1            463 non-null    float64 \n",
      " 5   petroleo_cr    463 non-null    float64 \n",
      " 6   crudo_1p       463 non-null    float64 \n",
      " 7   gas_natural    463 non-null    float64 \n",
      " 8   condensado     463 non-null    float64 \n",
      " 9   v_2            463 non-null    float64 \n",
      " 10  v_3            463 non-null    float64 \n",
      " 11  petroleo_1     463 non-null    float64 \n",
      " 12  crudo_2p       463 non-null    object  \n",
      " 13  gas_natural_1  463 non-null    object  \n",
      " 14  condensado_1   463 non-null    object  \n",
      " 15  v_4            463 non-null    object  \n",
      " 16  v_5            463 non-null    object  \n",
      " 17  petroleo_2     463 non-null    object  \n",
      " 18  crudo_3p       463 non-null    object  \n",
      " 19  gas_natural_2  463 non-null    object  \n",
      " 20  condensado_2   463 non-null    object  \n",
      " 21  geometry       463 non-null    geometry\n",
      "dtypes: float64(9), geometry(1), object(12)\n",
      "memory usage: 79.7+ KB\n"
     ]
    }
   ],
   "source": [
    "campo_df.info()"
   ]
  }
 ],
 "metadata": {
  "kernelspec": {
   "display_name": "Python 3 (ipykernel)",
   "language": "python",
   "name": "python3"
  },
  "language_info": {
   "codemirror_mode": {
    "name": "ipython",
    "version": 3
   },
   "file_extension": ".py",
   "mimetype": "text/x-python",
   "name": "python",
   "nbconvert_exporter": "python",
   "pygments_lexer": "ipython3",
   "version": "3.9.18"
  }
 },
 "nbformat": 4,
 "nbformat_minor": 5
}
